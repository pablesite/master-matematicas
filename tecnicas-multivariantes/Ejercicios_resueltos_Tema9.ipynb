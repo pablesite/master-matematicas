{
 "cells": [
  {
   "cell_type": "code",
   "execution_count": 1,
   "id": "ddfe8e29-4ed0-44c3-849f-061d46f29dd7",
   "metadata": {},
   "outputs": [
    {
     "name": "stdout",
     "output_type": "stream",
     "text": [
      "<class 'pandas.core.frame.DataFrame'>\n",
      "RangeIndex: 1175 entries, 0 to 1174\n",
      "Data columns (total 54 columns):\n",
      " #   Column                 Non-Null Count  Dtype  \n",
      "---  ------                 --------------  -----  \n",
      " 0   alanine                1175 non-null   float64\n",
      " 1   creatin.phosphate      1175 non-null   float64\n",
      " 2   creatine               1175 non-null   float64\n",
      " 3   cysteine               1175 non-null   float64\n",
      " 4   glutamine              1175 non-null   float64\n",
      " 5   n.acetylglutamine      1175 non-null   float64\n",
      " 6   proline                1175 non-null   float64\n",
      " 7   tryptophan             1175 non-null   float64\n",
      " 8   tyrosine               1175 non-null   float64\n",
      " 9   isoleucine             1175 non-null   float64\n",
      " 10  leucine                1175 non-null   float64\n",
      " 11  valine                 1175 non-null   float64\n",
      " 12  fa.ch2ch2co            1175 non-null   float64\n",
      " 13  fa.ch2ch3              1175 non-null   float64\n",
      " 14  fa.ch2n                1175 non-null   float64\n",
      " 15  fa.ch3                 1175 non-null   float64\n",
      " 16  fa.chch2ch             1175 non-null   float64\n",
      " 17  isobutyrate            1175 non-null   float64\n",
      " 18  albumin                1175 non-null   float64\n",
      " 19  creatinine             1175 non-null   float64\n",
      " 20  citrate                1175 non-null   float64\n",
      " 21  lactate                1175 non-null   float64\n",
      " 22  pyruvate               1175 non-null   float64\n",
      " 23  acetate                1175 non-null   float64\n",
      " 24  acetone                1175 non-null   float64\n",
      " 25  hydroxybutyrate.3      1175 non-null   float64\n",
      " 26  ethanol                1175 non-null   float64\n",
      " 27  isopropanol            1175 non-null   float64\n",
      " 28  methanol               1175 non-null   float64\n",
      " 29  trimethylamines        1175 non-null   float64\n",
      " 30  phenylpropionate       1175 non-null   float64\n",
      " 31  O.phosphoethanolamine  1175 non-null   float64\n",
      " 32  total.c                1175 non-null   float64\n",
      " 33  vldl.c                 1175 non-null   float64\n",
      " 34  ldl.c                  1175 non-null   float64\n",
      " 35  idl.c                  1175 non-null   float64\n",
      " 36  hdl.c                  1175 non-null   float64\n",
      " 37  total.tg               1175 non-null   float64\n",
      " 38  vldl.tg                1175 non-null   float64\n",
      " 39  ldl.tg                 1175 non-null   float64\n",
      " 40  idl.tg                 1175 non-null   float64\n",
      " 41  hdl.tg                 1175 non-null   float64\n",
      " 42  total.vldl             1175 non-null   float64\n",
      " 43  large.vldl             1175 non-null   float64\n",
      " 44  medium.vldl            1175 non-null   float64\n",
      " 45  small.vldl             1175 non-null   float64\n",
      " 46  total.ldl              1175 non-null   float64\n",
      " 47  large.ldl              1175 non-null   float64\n",
      " 48  medium.ldl             1175 non-null   float64\n",
      " 49  small.ldl              1175 non-null   float64\n",
      " 50  total.hdl              1175 non-null   float64\n",
      " 51  large.hdl              1175 non-null   float64\n",
      " 52  medium.hdl             1175 non-null   float64\n",
      " 53  small.hdl              1175 non-null   float64\n",
      "dtypes: float64(54)\n",
      "memory usage: 495.8 KB\n",
      "None\n"
     ]
    }
   ],
   "source": [
    "import os, sys\n",
    "#EJERCICIO 1\n",
    "# cargar librerías-----------------------------------------------\n",
    "import pandas as pd\n",
    "import matplotlib as mpl\n",
    "import matplotlib.pyplot as plt\n",
    "from sklearn.cluster import KMeans\n",
    "from sklearn.cluster import MiniBatchKMeans\n",
    "import numpy as np\n",
    "# cargar base----------------------------------------------------\n",
    "# mb = pd.read_csv(\"datasets/mb.csv\")\n",
    "mb = pd.read_csv(\"Ejercicios_resueltos_Tema9_mb.csv\")\n",
    "# info de la base------------------------------------------------\n",
    "print(mb.info())"
   ]
  },
  {
   "cell_type": "code",
   "execution_count": 2,
   "id": "49a43f64-ab38-4a2a-9edf-3c25a6b60074",
   "metadata": {},
   "outputs": [
    {
     "data": {
      "text/plain": [
       "(1175, 54)"
      ]
     },
     "execution_count": 2,
     "metadata": {},
     "output_type": "execute_result"
    }
   ],
   "source": [
    "# se aplica el PCA con sklearn-----------------------------------\n",
    "from sklearn.decomposition import PCA\n",
    "# crear clase PCA con n componentes------------------------------\n",
    "pca = PCA()\n",
    "# obtener la proyeccion de la matriz mb en las comp principales--\n",
    "mb_PC = pca.fit_transform(mb)\n",
    "# comprobamos la dim de mb_PC------------------------------------\n",
    "mb_PC.shape"
   ]
  },
  {
   "cell_type": "code",
   "execution_count": 3,
   "id": "c9f94a77-dfce-496f-8fb3-f1cc6729b6bd",
   "metadata": {},
   "outputs": [
    {
     "name": "stdout",
     "output_type": "stream",
     "text": [
      "[6.54113751e-01 1.18315153e-01 8.57161065e-02 4.49026558e-02\n",
      " 2.40614153e-02 1.57406515e-02 1.19984404e-02 1.07629315e-02\n",
      " 7.25341646e-03 5.09067583e-03 4.14285028e-03 2.86864343e-03\n",
      " 2.45528447e-03 1.87532558e-03 1.66420326e-03 1.51093331e-03\n",
      " 1.29703833e-03 1.15389535e-03 8.64402585e-04 8.08919830e-04\n",
      " 5.22737224e-04 4.35979353e-04 3.79831616e-04 3.39089074e-04\n",
      " 2.91621961e-04 2.25647457e-04 1.92138875e-04 1.40931503e-04\n",
      " 1.20856631e-04 1.16412240e-04 9.12743328e-05 7.54115534e-05\n",
      " 6.91451154e-05 5.60639983e-05 4.88777554e-05 3.89308594e-05\n",
      " 3.46320905e-05 3.20654047e-05 2.95220832e-05 2.72828096e-05\n",
      " 2.34086263e-05 1.87246371e-05 1.62239037e-05 1.52212230e-05\n",
      " 1.21886973e-05 1.12322939e-05 9.69063850e-06 7.50877781e-06\n",
      " 6.46432045e-06 4.32411037e-06 3.67087520e-06 2.56866886e-06\n",
      " 2.47900852e-06 1.14812962e-06]\n"
     ]
    }
   ],
   "source": [
    "print(pca.explained_variance_ratio_)"
   ]
  },
  {
   "cell_type": "code",
   "execution_count": 4,
   "id": "ce0665c1-97c2-49f0-9fb7-1d97f48fa293",
   "metadata": {},
   "outputs": [
    {
     "name": "stdout",
     "output_type": "stream",
     "text": [
      "1.0\n",
      "[0.65411375 0.7724289  0.85814501 0.90304767 0.92710908 0.94284973\n",
      " 0.95484817 0.96561111 0.97286452 0.9779552  0.98209805 0.98496669\n",
      " 0.98742198 0.9892973  0.9909615  0.99247244 0.99376948 0.99492337\n",
      " 0.99578777 0.99659669 0.99711943 0.99755541 0.99793524 0.99827433\n",
      " 0.99856595 0.9987916  0.99898374 0.99912467 0.99924553 0.99936194\n",
      " 0.99945321 0.99952863 0.99959777 0.99965384 0.99970271 0.99974164\n",
      " 0.99977628 0.99980834 0.99983786 0.99986515 0.99988855 0.99990728\n",
      " 0.9999235  0.99993872 0.99995091 0.99996215 0.99997184 0.99997934\n",
      " 0.99998581 0.99999013 0.9999938  0.99999637 0.99999885 1.        ]\n"
     ]
    }
   ],
   "source": [
    "# suma de las varianzas de todas las componentes principales-----\n",
    "print(round(sum(pca.explained_variance_ratio_), 5))\n",
    "# acumulado de la varianza de todas las componentes principales--\n",
    "print(pca.explained_variance_ratio_.cumsum())"
   ]
  },
  {
   "cell_type": "code",
   "execution_count": 5,
   "id": "d4980d8f-3989-4954-8c30-30f8bf5149c4",
   "metadata": {},
   "outputs": [
    {
     "data": {
      "text/plain": [
       "(1175, 7)"
      ]
     },
     "execution_count": 5,
     "metadata": {},
     "output_type": "execute_result"
    }
   ],
   "source": [
    "# crear clase PCA con 7 componentes------------------------------\n",
    "pca_7 = PCA(n_components = 7)\n",
    "# obtener la proyeccion de la matriz mb en las com principales---\n",
    "mb_PC_7 = pca_7.fit_transform(mb)\n",
    "# comprobamos la dim de mb_PC------------------------------------\n",
    "mb_PC_7.shape"
   ]
  },
  {
   "cell_type": "code",
   "execution_count": 6,
   "id": "34c9335a-576b-4a9d-a026-1aabc0363cfe",
   "metadata": {},
   "outputs": [
    {
     "name": "stdout",
     "output_type": "stream",
     "text": [
      "[[-1.30660311  0.03482856 -0.22927091 ...  0.28076227  0.21150472\n",
      "  -0.17096204]\n",
      " [ 0.08136895  1.00126474  0.06910126 ...  0.32177194  0.22015808\n",
      "   0.04628732]\n",
      " [ 4.451763    2.03479228  1.15494694 ... -0.755619   -0.13655109\n",
      "   0.3654167 ]\n",
      " ...\n",
      " [-1.04388805  0.23547975 -0.04542943 ...  0.75669877 -0.06204387\n",
      "  -0.0912457 ]\n",
      " [-2.73237092 -0.55080888  0.43984931 ... -1.06785867 -0.83001115\n",
      "  -0.06147425]\n",
      " [ 2.93272656  0.64088248  0.85889471 ... -0.03090413  0.20167986\n",
      "   0.13805329]]\n"
     ]
    }
   ],
   "source": [
    "print(mb_PC_7)"
   ]
  },
  {
   "cell_type": "code",
   "execution_count": 7,
   "id": "34f6b229-6a3a-4d7d-903d-d127db5b94d2",
   "metadata": {},
   "outputs": [
    {
     "data": {
      "text/plain": [
       "(1175, 7)"
      ]
     },
     "execution_count": 7,
     "metadata": {},
     "output_type": "execute_result"
    }
   ],
   "source": [
    "# crear clase PCA con 0.95 varianza explicada--------------------\n",
    "pca_7_bis = PCA(n_components = 0.95)\n",
    "# obtener la proyeccion de la matriz mb en las comp principales--\n",
    "mb_PC_7_bis = pca_7_bis.fit_transform(mb)\n",
    "# comprobamos la dim de mb_PC------------------------------------\n",
    "mb_PC_7_bis.shape"
   ]
  },
  {
   "cell_type": "code",
   "execution_count": 8,
   "id": "25d3704e-a2a1-421c-8a61-e3d9aec784a2",
   "metadata": {},
   "outputs": [
    {
     "name": "stdout",
     "output_type": "stream",
     "text": [
      "        PC1       PC2       PC3       PC4       PC5       PC6       PC7\n",
      "0 -1.306603  0.034829 -0.229271 -0.451673  0.280762  0.211505 -0.170962\n",
      "1  0.081369  1.001265  0.069101 -0.164533  0.321772  0.220158  0.046287\n",
      "2  4.451763  2.034792  1.154947  0.372276 -0.755619 -0.136551  0.365417\n",
      "3  2.773560 -5.209073  0.228254 -0.382472 -0.208599  0.044349 -1.104811\n",
      "4  0.399323  0.036426 -0.743607  1.228068  0.175580 -0.250505 -0.358564\n"
     ]
    }
   ],
   "source": [
    "# se obtiene el mismo resultado que mb_PC_7----------------------\n",
    "# representacion conjunto de datos en componentes principales----\n",
    "mb_PC_7_df = pd.DataFrame(data = mb_PC_7, columns = [\"PC1\",\"PC2\",\"PC3\",\"PC4\",\"PC5\",\"PC6\",\"PC7\"])\n",
    "# primeras observaciones del nuevo conjunto de datos-------------\n",
    "print(mb_PC_7_df.head())"
   ]
  },
  {
   "cell_type": "code",
   "execution_count": 9,
   "id": "6a2045ec-2df3-4703-b9e2-aaad18ef11c7",
   "metadata": {},
   "outputs": [
    {
     "data": {
      "image/png": "[encoded data removed]",
      "text/plain": [
       "<Figure size 640x480 with 1 Axes>"
      ]
     },
     "metadata": {},
     "output_type": "display_data"
    }
   ],
   "source": [
    "# representacion conjunto de datos en componentes principales----\n",
    "plt.plot(pca.explained_variance_ratio_.cumsum())\n",
    "plt.show()"
   ]
  },
  {
   "cell_type": "code",
   "execution_count": 10,
   "id": "09140ae2-deaa-4a05-acb3-1089528d4262",
   "metadata": {},
   "outputs": [
    {
     "name": "stdout",
     "output_type": "stream",
     "text": [
      "        PC1       PC2       PC3       PC4       PC5       PC6       PC7  \\\n",
      "0 -1.306603  0.034829 -0.229271 -0.451673  0.280762  0.211505 -0.170962   \n",
      "1  0.081369  1.001265  0.069101 -0.164533  0.321772  0.220158  0.046287   \n",
      "2  4.451763  2.034792  1.154947  0.372276 -0.755619 -0.136551  0.365417   \n",
      "3  2.773560 -5.209073  0.228254 -0.382472 -0.208599  0.044349 -1.104811   \n",
      "4  0.399323  0.036426 -0.743607  1.228068  0.175580 -0.250505 -0.358564   \n",
      "\n",
      "        PC8       PC9      PC10  \n",
      "0 -0.076527 -0.342418  0.326579  \n",
      "1  0.023825  0.301294  0.193152  \n",
      "2 -0.767980 -0.102947 -0.160413  \n",
      "3 -1.025533  0.169926 -0.091083  \n",
      "4 -0.159043 -0.257653 -0.204145  \n"
     ]
    }
   ],
   "source": [
    "pca_10 = PCA(n_components = 10)\n",
    "mb_PC_10 = pca_10.fit_transform(mb)\n",
    "# representacion conjunto de datos en componentes principales----\n",
    "mb_PC_10_df = pd.DataFrame(data = mb_PC_10, columns = [\"PC1\",\"PC2\",\"PC3\",\"PC4\",\"PC5\",\"PC6\",\"PC7\",\"PC8\",\"PC9\",\"PC10\"])\n",
    "# primeras observaciones del nuevo conjunto de datos-------------\n",
    "print(mb_PC_10_df.head())"
   ]
  },
  {
   "cell_type": "code",
   "execution_count": 11,
   "id": "61331754-e7e2-4413-8be8-a9b81a9ccd40",
   "metadata": {},
   "outputs": [
    {
     "name": "stdout",
     "output_type": "stream",
     "text": [
      "[5.84872221e+00 1.05790845e+00 7.66425862e-01 4.01494632e-01\n",
      " 2.15143824e-01 1.40744171e-01 1.07283396e-01 9.62361612e-02\n",
      " 6.48560252e-02 4.55179986e-02 3.70430685e-02 2.56498178e-02\n",
      " 2.19537913e-02 1.67681207e-02 1.48803821e-02 1.35099273e-02\n",
      " 1.15973971e-02 1.03174920e-02 7.72900828e-03 7.23291227e-03\n",
      " 4.67402620e-03 3.89828546e-03 3.39624355e-03 3.03194635e-03\n",
      " 2.60752176e-03 2.01761435e-03 1.71799921e-03 1.26013130e-03\n",
      " 1.08063293e-03 1.04089365e-03 8.16124437e-04 6.74288266e-04\n",
      " 6.18257255e-04 5.01293164e-04 4.37037767e-04 3.48098143e-04\n",
      " 3.09660937e-04 2.86711057e-04 2.63970086e-04 2.43947744e-04\n",
      " 2.09306948e-04 1.67425315e-04 1.45065145e-04 1.36099730e-04\n",
      " 1.08984568e-04 1.00432940e-04 8.66483123e-05 6.71393247e-05\n",
      " 5.78003665e-05 3.86637955e-05 3.28229291e-05 2.29676116e-05\n",
      " 2.21659186e-05 1.02659380e-05]\n"
     ]
    }
   ],
   "source": [
    "# varianza explicada por las componentes principales-------------\n",
    "print(pca.explained_variance_)"
   ]
  },
  {
   "cell_type": "code",
   "execution_count": 12,
   "id": "51727bee-514b-4741-af62-246867f2caaa",
   "metadata": {},
   "outputs": [
    {
     "name": "stdout",
     "output_type": "stream",
     "text": [
      "        PC1       PC2\n",
      "0 -1.306603  0.034829\n",
      "1  0.081369  1.001265\n",
      "2  4.451763  2.034792\n",
      "3  2.773560 -5.209073\n",
      "4  0.399323  0.036426\n"
     ]
    }
   ],
   "source": [
    "pca_2 = PCA(n_components = 2)\n",
    "mb_PC_2 = pca_2.fit_transform(mb)\n",
    "# representacion conjunto de datos en componentes principales----\n",
    "mb_PC_2_df = pd.DataFrame(data = mb_PC_2, columns = [\"PC1\",\"PC2\"])\n",
    "# primeras observaciones del nuevo conjunto de datos-------------\n",
    "print(mb_PC_2_df.head())"
   ]
  },
  {
   "cell_type": "code",
   "execution_count": null,
   "id": "6502f14b-46d5-436b-8043-fc65b33d4b9e",
   "metadata": {},
   "outputs": [],
   "source": []
  },
  {
   "cell_type": "code",
   "execution_count": 14,
   "id": "ee51bca0-dc77-4db3-81c8-3828d2fca872",
   "metadata": {},
   "outputs": [
    {
     "data": {
      "text/plain": [
       "['sepal length (cm)',\n",
       " 'sepal width (cm)',\n",
       " 'petal length (cm)',\n",
       " 'petal width (cm)']"
      ]
     },
     "execution_count": 14,
     "metadata": {},
     "output_type": "execute_result"
    }
   ],
   "source": [
    "#EJERCICIO 2\n",
    "# cargar datos Iris----------------------------------------------\n",
    "from sklearn.datasets import load_iris\n",
    "data = load_iris()\n",
    "# capturar matriz de las variables de iris-----------------------\n",
    "X = data.data\n",
    "# nombres variables X\n",
    "data.feature_names"
   ]
  },
  {
   "cell_type": "code",
   "execution_count": 15,
   "id": "c64a0cc4-c02e-4967-8e43-1985a811d28b",
   "metadata": {},
   "outputs": [
    {
     "data": {
      "text/plain": [
       "(150, 4)"
      ]
     },
     "execution_count": 15,
     "metadata": {},
     "output_type": "execute_result"
    }
   ],
   "source": [
    "# dimension de X\n",
    "X.shape\n",
    "# grupos reales (para comprobar que el clustering)--------------- "
   ]
  },
  {
   "cell_type": "code",
   "execution_count": 17,
   "id": "85f05c2c-a66e-43c0-86f1-7246e080ec8c",
   "metadata": {},
   "outputs": [],
   "source": [
    "y = data.target"
   ]
  },
  {
   "cell_type": "code",
   "execution_count": 18,
   "id": "369281d5-487f-4654-acbe-e392a7e2134a",
   "metadata": {},
   "outputs": [
    {
     "name": "stderr",
     "output_type": "stream",
     "text": [
      "C:\\Users\\Jvanfran\\AppData\\Roaming\\Python\\Python311\\site-packages\\sklearn\\cluster\\_kmeans.py:1419: UserWarning: KMeans is known to have a memory leak on Windows with MKL, when there are less chunks than available threads. You can avoid it by setting the environment variable OMP_NUM_THREADS=1.\n",
      "  warnings.warn(\n",
      "C:\\Users\\Jvanfran\\AppData\\Roaming\\Python\\Python311\\site-packages\\sklearn\\cluster\\_kmeans.py:1419: UserWarning: KMeans is known to have a memory leak on Windows with MKL, when there are less chunks than available threads. You can avoid it by setting the environment variable OMP_NUM_THREADS=1.\n",
      "  warnings.warn(\n",
      "C:\\Users\\Jvanfran\\AppData\\Roaming\\Python\\Python311\\site-packages\\sklearn\\cluster\\_kmeans.py:1419: UserWarning: KMeans is known to have a memory leak on Windows with MKL, when there are less chunks than available threads. You can avoid it by setting the environment variable OMP_NUM_THREADS=1.\n",
      "  warnings.warn(\n",
      "C:\\Users\\Jvanfran\\AppData\\Roaming\\Python\\Python311\\site-packages\\sklearn\\cluster\\_kmeans.py:1419: UserWarning: KMeans is known to have a memory leak on Windows with MKL, when there are less chunks than available threads. You can avoid it by setting the environment variable OMP_NUM_THREADS=1.\n",
      "  warnings.warn(\n",
      "C:\\Users\\Jvanfran\\AppData\\Roaming\\Python\\Python311\\site-packages\\sklearn\\cluster\\_kmeans.py:1419: UserWarning: KMeans is known to have a memory leak on Windows with MKL, when there are less chunks than available threads. You can avoid it by setting the environment variable OMP_NUM_THREADS=1.\n",
      "  warnings.warn(\n",
      "C:\\Users\\Jvanfran\\AppData\\Roaming\\Python\\Python311\\site-packages\\sklearn\\cluster\\_kmeans.py:1419: UserWarning: KMeans is known to have a memory leak on Windows with MKL, when there are less chunks than available threads. You can avoid it by setting the environment variable OMP_NUM_THREADS=1.\n",
      "  warnings.warn(\n",
      "C:\\Users\\Jvanfran\\AppData\\Roaming\\Python\\Python311\\site-packages\\sklearn\\cluster\\_kmeans.py:1419: UserWarning: KMeans is known to have a memory leak on Windows with MKL, when there are less chunks than available threads. You can avoid it by setting the environment variable OMP_NUM_THREADS=1.\n",
      "  warnings.warn(\n",
      "C:\\Users\\Jvanfran\\AppData\\Roaming\\Python\\Python311\\site-packages\\sklearn\\cluster\\_kmeans.py:1419: UserWarning: KMeans is known to have a memory leak on Windows with MKL, when there are less chunks than available threads. You can avoid it by setting the environment variable OMP_NUM_THREADS=1.\n",
      "  warnings.warn(\n",
      "C:\\Users\\Jvanfran\\AppData\\Roaming\\Python\\Python311\\site-packages\\sklearn\\cluster\\_kmeans.py:1419: UserWarning: KMeans is known to have a memory leak on Windows with MKL, when there are less chunks than available threads. You can avoid it by setting the environment variable OMP_NUM_THREADS=1.\n",
      "  warnings.warn(\n"
     ]
    },
    {
     "data": {
      "text/plain": [
       "(1.0, 10.5, 0.0, 300.0)"
      ]
     },
     "execution_count": 18,
     "metadata": {},
     "output_type": "execute_result"
    },
    {
     "data": {
      "image/png": "[encoded data removed]",
      "text/plain": [
       "<Figure size 800x475 with 1 Axes>"
      ]
     },
     "metadata": {},
     "output_type": "display_data"
    }
   ],
   "source": [
    "# definir ajuste Kmedias-----------------------------------------\n",
    "kmedias_k = [KMeans(n_clusters = k, random_state = 3, n_init = 10).fit(X) for k in range(2, 11)]\n",
    "inercias = [model.inertia_ for model in kmedias_k]\n",
    "\n",
    "# pintar inercias------------------------------------------------\n",
    "plt.figure(figsize=(8, 4.75))\n",
    "plt.plot(range(2, 11), inercias, \"bo-\")\n",
    "plt.xlabel(\"$k$\", fontsize=14)\n",
    "plt.ylabel(\"Inercia\", fontsize=14)\n",
    "\n",
    "plt.annotate('Codo',\n",
    "xy=(3, inercias[1]),\n",
    "xytext=(0.55, 0.55),\n",
    "textcoords='figure fraction',\n",
    "fontsize=16,\n",
    "arrowprops=dict(facecolor='black', shrink=0.1)\n",
    ")\n",
    "plt.axis([1, 10.5, 0, 300])"
   ]
  },
  {
   "cell_type": "code",
   "execution_count": 19,
   "id": "bc8bc301-8234-4dd8-8d8a-e5793021cebb",
   "metadata": {},
   "outputs": [],
   "source": [
    "plt.show()"
   ]
  },
  {
   "cell_type": "code",
   "execution_count": 21,
   "id": "f03622eb-1815-45b4-a083-49226a3370ce",
   "metadata": {},
   "outputs": [
    {
     "name": "stdout",
     "output_type": "stream",
     "text": [
      "[0 0 0 0 0 0 0 0 0 0 0 0 0 0 0 0 0 0 0 0 0 0 0 0 0 0 0 0 0 0 0 0 0 0 0 0 0\n",
      " 0 0 0 0 0 0 0 0 0 0 0 0 0 1 1 2 1 1 1 1 1 1 1 1 1 1 1 1 1 1 1 1 1 1 1 1 1\n",
      " 1 1 1 2 1 1 1 1 1 1 1 1 1 1 1 1 1 1 1 1 1 1 1 1 1 1 2 1 2 2 2 2 1 2 2 2 2\n",
      " 2 2 1 1 2 2 2 2 1 2 1 2 1 2 2 1 1 2 2 2 2 2 1 2 2 2 2 1 2 2 2 1 2 2 2 1 2\n",
      " 2 1]\n"
     ]
    },
    {
     "name": "stderr",
     "output_type": "stream",
     "text": [
      "C:\\Users\\Jvanfran\\AppData\\Roaming\\Python\\Python311\\site-packages\\sklearn\\cluster\\_kmeans.py:1419: UserWarning: KMeans is known to have a memory leak on Windows with MKL, when there are less chunks than available threads. You can avoid it by setting the environment variable OMP_NUM_THREADS=1.\n",
      "  warnings.warn(\n",
      "C:\\Users\\Jvanfran\\AppData\\Roaming\\Python\\Python311\\site-packages\\sklearn\\cluster\\_kmeans.py:1419: UserWarning: KMeans is known to have a memory leak on Windows with MKL, when there are less chunks than available threads. You can avoid it by setting the environment variable OMP_NUM_THREADS=1.\n",
      "  warnings.warn(\n"
     ]
    }
   ],
   "source": [
    "# definir ajuste Kmedias con K = 3-------------------------------\n",
    "kmedias_3 = KMeans(n_clusters = 3, random_state = 3, n_init = 10).fit(X)\n",
    "# calcular prediccion--------------------------------------------\n",
    "y_pred = kmedias_3.fit_predict(X)\n",
    "# clases del clustering------------------------------------------\n",
    "print(y_pred)"
   ]
  },
  {
   "cell_type": "code",
   "execution_count": 22,
   "id": "48dffa51-8690-41e4-83f7-e9ed52366be1",
   "metadata": {},
   "outputs": [
    {
     "name": "stdout",
     "output_type": "stream",
     "text": [
      "[0 0 0 0 0 0 0 0 0 0 0 0 0 0 0 0 0 0 0 0 0 0 0 0 0 0 0 0 0 0 0 0 0 0 0 0 0\n",
      " 0 0 0 0 0 0 0 0 0 0 0 0 0 1 1 1 1 1 1 1 1 1 1 1 1 1 1 1 1 1 1 1 1 1 1 1 1\n",
      " 1 1 1 1 1 1 1 1 1 1 1 1 1 1 1 1 1 1 1 1 1 1 1 1 1 1 2 2 2 2 2 2 2 2 2 2 2\n",
      " 2 2 2 2 2 2 2 2 2 2 2 2 2 2 2 2 2 2 2 2 2 2 2 2 2 2 2 2 2 2 2 2 2 2 2 2 2\n",
      " 2 2]\n"
     ]
    }
   ],
   "source": [
    "# clases reales--------------------------------------------------\n",
    "print(y)"
   ]
  },
  {
   "cell_type": "code",
   "execution_count": 23,
   "id": "8f49b487-2535-447d-941b-fc2f21b5307f",
   "metadata": {},
   "outputs": [
    {
     "name": "stdout",
     "output_type": "stream",
     "text": [
      "[152.34795176035792, 78.85144142614601, 57.228473214285714, 46.44618205128205, 39.03998724608725, 34.3453606427897, 30.65712787650946, 28.433198809961965, 26.418867565183355]\n"
     ]
    },
    {
     "data": {
      "text/plain": [
       "[<matplotlib.lines.Line2D at 0x12d70301910>]"
      ]
     },
     "execution_count": 23,
     "metadata": {},
     "output_type": "execute_result"
    },
    {
     "data": {
      "image/png": "[encoded data removed]",
      "text/plain": [
       "<Figure size 800x475 with 1 Axes>"
      ]
     },
     "metadata": {},
     "output_type": "display_data"
    }
   ],
   "source": [
    "# definir ajuste Kmedias para la base mb-------------------------\n",
    "kmedias_k_mb = [KMeans(n_clusters = k, random_state = 3, n_init = 10).fit(mb)                 for k in range(2, 26)]\n",
    "inercias_mb = [model.inertia_ for model in kmedias_k_mb]\n",
    "print(inercias)\n",
    "\n",
    "# pintar inercias------------------------------------------------\n",
    "plt.figure(figsize=(8, 4.75))\n",
    "plt.plot(range(2, 11), inercias, \"bo-\")"
   ]
  },
  {
   "cell_type": "code",
   "execution_count": null,
   "id": "f9f677b9-9993-41b4-9024-1c5fec71be42",
   "metadata": {},
   "outputs": [],
   "source": []
  },
  {
   "cell_type": "code",
   "execution_count": 24,
   "id": "49b2a0d8-deb9-4cf3-bff7-a3e758c320cf",
   "metadata": {},
   "outputs": [
    {
     "data": {
      "text/plain": [
       "(1.0, 25.5, 0.0, 8000.0)"
      ]
     },
     "execution_count": 24,
     "metadata": {},
     "output_type": "execute_result"
    },
    {
     "data": {
      "image/png": "[encoded data removed]",
      "text/plain": [
       "<Figure size 800x475 with 1 Axes>"
      ]
     },
     "metadata": {},
     "output_type": "display_data"
    }
   ],
   "source": [
    "#EJERCICIO 3\n",
    "# definir ajuste Kmedias para la base mb-------------------------\n",
    "kmedias_k_mb = [KMeans(n_clusters = k, random_state = 3, n_init = 10).fit(mb) for k in range(2, 26)]\n",
    "inercias_mb = [model.inertia_ for model in kmedias_k_mb]\n",
    "\n",
    "# pintar inercias------------------------------------------------\n",
    "plt.figure(figsize=(8, 4.75))\n",
    "plt.plot(range(2, 26), inercias_mb, \"bo-\")\n",
    "plt.xlabel(\"$k$\", fontsize=14)\n",
    "plt.ylabel(\"Inercia\", fontsize=14)\n",
    "plt.annotate('Codo',\n",
    "xy=(4, inercias_mb[3]),\n",
    "xytext=(0.5, 0.5),\n",
    "             textcoords='figure fraction',\n",
    "fontsize=16,\n",
    "arrowprops=dict(facecolor='black', shrink=0.2)\n",
    "\n",
    ")\n",
    "plt.axis([1, 25.5, 0, 8000])"
   ]
  },
  {
   "cell_type": "code",
   "execution_count": 26,
   "id": "66397fa1-936c-4ef6-9a65-b7de9997d697",
   "metadata": {},
   "outputs": [],
   "source": [
    "plt.show()"
   ]
  },
  {
   "cell_type": "code",
   "execution_count": 28,
   "id": "a10428c8-0a4d-48ad-a541-b1723169608e",
   "metadata": {},
   "outputs": [
    {
     "data": {
      "text/plain": [
       "{0: 422, 1: 139, 2: 254, 3: 335, 4: 25}"
      ]
     },
     "execution_count": 28,
     "metadata": {},
     "output_type": "execute_result"
    }
   ],
   "source": [
    "# definir ajuste Kmedias con K = 5-------------------------------\n",
    "kmedias_5_mb = KMeans(n_clusters = 5,\n",
    "random_state = 3, n_init = 10).fit(mb)\n",
    "y_pred = kmedias_5_mb.fit_predict(mb)\n",
    "# clases del clustering------------------------------------------\n",
    "unique, counts = np.unique(y_pred, return_counts = True)\n",
    "dict(zip(unique, counts))\n",
    "# clases reales--------------------------------------------------"
   ]
  },
  {
   "cell_type": "code",
   "execution_count": 27,
   "id": "836f9e44-3f74-49eb-8bac-114498c8c0ca",
   "metadata": {},
   "outputs": [
    {
     "data": {
      "text/plain": [
       "[<matplotlib.lines.Line2D at 0x12d70669c50>]"
      ]
     },
     "execution_count": 27,
     "metadata": {},
     "output_type": "execute_result"
    },
    {
     "data": {
      "image/png": "[encoded data removed]",
      "text/plain": [
       "<Figure size 800x475 with 1 Axes>"
      ]
     },
     "metadata": {},
     "output_type": "display_data"
    }
   ],
   "source": [
    "# pintar inercias------------------------------------------------\n",
    "plt.figure(figsize=(8, 4.75))\n",
    "plt.plot(range(2, 26), inercias_mb, \"bo-\")"
   ]
  },
  {
   "cell_type": "code",
   "execution_count": 29,
   "id": "e1064d83-80cc-4ce9-9679-cd4af5ae7232",
   "metadata": {},
   "outputs": [
    {
     "data": {
      "text/plain": [
       "(1.0, 25.5, 0.0, 8000.0)"
      ]
     },
     "execution_count": 29,
     "metadata": {},
     "output_type": "execute_result"
    },
    {
     "data": {
      "image/png": "[encoded data removed]",
      "text/plain": [
       "<Figure size 800x475 with 1 Axes>"
      ]
     },
     "metadata": {},
     "output_type": "display_data"
    }
   ],
   "source": [
    "# definir ajuste Kmedias para la base mb-------------------------\n",
    "kmedias_k_mb_PC = [KMeans(n_clusters = k, random_state = 3,\n",
    "n_init = 10).fit(mb_PC_7_df)\n",
    "for k in range(2, 26)]\n",
    "inercias_mb_PC = [model.inertia_ for model in kmedias_k_mb_PC]\n",
    "\n",
    "# pintar inercias------------------------------------------------\n",
    "plt.figure(figsize=(8, 4.75))\n",
    "plt.plot(range(2, 26), inercias_mb_PC, \"bo-\")\n",
    "plt.xlabel(\"$k$\", fontsize=14)\n",
    "plt.ylabel(\"Inercia\", fontsize=14)\n",
    "plt.annotate('Codo',\n",
    "xy=(4, inercias_mb_PC[3]),\n",
    "xytext=(0.5, 0.5),\n",
    "textcoords='figure fraction',\n",
    "fontsize=16,\n",
    "arrowprops=dict(facecolor='black', shrink=0.2)\n",
    ")\n",
    "plt.axis([1, 25.5, 0, 8000])"
   ]
  },
  {
   "cell_type": "code",
   "execution_count": 30,
   "id": "38a9b1ed-f35a-426b-a876-f352f9d362a1",
   "metadata": {},
   "outputs": [],
   "source": [
    "plt.show()"
   ]
  },
  {
   "cell_type": "code",
   "execution_count": 31,
   "id": "6e50fdb6-2c3f-403d-b131-df41e18efe9c",
   "metadata": {},
   "outputs": [
    {
     "data": {
      "text/plain": [
       "{0: 26, 1: 343, 2: 243, 3: 142, 4: 421}"
      ]
     },
     "execution_count": 31,
     "metadata": {},
     "output_type": "execute_result"
    }
   ],
   "source": [
    "# definir ajuste Kmedias con K = 5-------------------------------\n",
    "kmedias_5_mb_PC = KMeans(n_clusters = 5,\n",
    "random_state = 3, n_init = 10).fit(mb_PC_7_df)\n",
    "y_pred = kmedias_5_mb_PC.fit_predict(mb_PC_7_df)\n",
    "# clases del clustering------------------------------------------\n",
    "unique, counts = np.unique(y_pred, return_counts=True)\n",
    "dict(zip(unique, counts))\n",
    "# clases reales--------------------------------------------------"
   ]
  },
  {
   "cell_type": "code",
   "execution_count": 32,
   "id": "6ff46f9c-0c49-44e6-b899-6e573d23d90a",
   "metadata": {},
   "outputs": [
    {
     "name": "stdout",
     "output_type": "stream",
     "text": [
      "[1 4 2 ... 1 3 2]\n"
     ]
    }
   ],
   "source": [
    "# definir ajuste Kmedias con K = 5-------------------------------\n",
    "kmedias_5_mb_PC = KMeans(n_clusters = 5, random_state = 3, n_init = 10).fit(mb_PC_7_df)\n",
    "y_pred = kmedias_5_mb_PC.fit_predict(mb_PC_7_df)\n",
    "print(y_pred)"
   ]
  },
  {
   "cell_type": "code",
   "execution_count": null,
   "id": "c37b2a68-f87d-4b57-9e31-bde68e793e3b",
   "metadata": {},
   "outputs": [],
   "source": []
  }
 ],
 "metadata": {
  "kernelspec": {
   "display_name": "Python 3 (ipykernel)",
   "language": "python",
   "name": "python3"
  },
  "language_info": {
   "codemirror_mode": {
    "name": "ipython",
    "version": 3
   },
   "file_extension": ".py",
   "mimetype": "text/x-python",
   "name": "python",
   "nbconvert_exporter": "python",
   "pygments_lexer": "ipython3",
   "version": "3.11.7"
  }
 },
 "nbformat": 4,
 "nbformat_minor": 5
}
