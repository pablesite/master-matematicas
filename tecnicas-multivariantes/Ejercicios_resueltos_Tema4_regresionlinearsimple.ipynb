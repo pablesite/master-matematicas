{
 "cells": [
  {
   "cell_type": "code",
   "execution_count": 14,
   "id": "fb3f3313-363b-41de-a713-e335c92d77f6",
   "metadata": {},
   "outputs": [
    {
     "data": {
      "text/html": [
       "<div>\n",
       "<style scoped>\n",
       "    .dataframe tbody tr th:only-of-type {\n",
       "        vertical-align: middle;\n",
       "    }\n",
       "\n",
       "    .dataframe tbody tr th {\n",
       "        vertical-align: top;\n",
       "    }\n",
       "\n",
       "    .dataframe thead th {\n",
       "        text-align: right;\n",
       "    }\n",
       "</style>\n",
       "<table border=\"1\" class=\"dataframe\">\n",
       "  <thead>\n",
       "    <tr style=\"text-align: right;\">\n",
       "      <th></th>\n",
       "      <th>x</th>\n",
       "      <th>y</th>\n",
       "    </tr>\n",
       "  </thead>\n",
       "  <tbody>\n",
       "    <tr>\n",
       "      <th>0</th>\n",
       "      <td>62.675661</td>\n",
       "      <td>517.097007</td>\n",
       "    </tr>\n",
       "    <tr>\n",
       "      <th>1</th>\n",
       "      <td>166.254106</td>\n",
       "      <td>1071.822371</td>\n",
       "    </tr>\n",
       "    <tr>\n",
       "      <th>2</th>\n",
       "      <td>122.397254</td>\n",
       "      <td>501.610387</td>\n",
       "    </tr>\n",
       "    <tr>\n",
       "      <th>3</th>\n",
       "      <td>38.997767</td>\n",
       "      <td>159.227305</td>\n",
       "    </tr>\n",
       "    <tr>\n",
       "      <th>4</th>\n",
       "      <td>48.466506</td>\n",
       "      <td>159.289701</td>\n",
       "    </tr>\n",
       "    <tr>\n",
       "      <th>5</th>\n",
       "      <td>75.726504</td>\n",
       "      <td>167.745255</td>\n",
       "    </tr>\n",
       "    <tr>\n",
       "      <th>6</th>\n",
       "      <td>115.779915</td>\n",
       "      <td>603.760399</td>\n",
       "    </tr>\n",
       "    <tr>\n",
       "      <th>7</th>\n",
       "      <td>48.359412</td>\n",
       "      <td>151.642354</td>\n",
       "    </tr>\n",
       "    <tr>\n",
       "      <th>8</th>\n",
       "      <td>220.862737</td>\n",
       "      <td>727.021883</td>\n",
       "    </tr>\n",
       "    <tr>\n",
       "      <th>9</th>\n",
       "      <td>27.618049</td>\n",
       "      <td>89.704189</td>\n",
       "    </tr>\n",
       "    <tr>\n",
       "      <th>10</th>\n",
       "      <td>165.343096</td>\n",
       "      <td>959.315389</td>\n",
       "    </tr>\n",
       "    <tr>\n",
       "      <th>11</th>\n",
       "      <td>75.835345</td>\n",
       "      <td>199.148682</td>\n",
       "    </tr>\n",
       "    <tr>\n",
       "      <th>12</th>\n",
       "      <td>71.445588</td>\n",
       "      <td>337.008389</td>\n",
       "    </tr>\n",
       "    <tr>\n",
       "      <th>13</th>\n",
       "      <td>63.461576</td>\n",
       "      <td>588.037462</td>\n",
       "    </tr>\n",
       "    <tr>\n",
       "      <th>14</th>\n",
       "      <td>243.544835</td>\n",
       "      <td>1265.822842</td>\n",
       "    </tr>\n",
       "    <tr>\n",
       "      <th>15</th>\n",
       "      <td>227.088481</td>\n",
       "      <td>1568.992907</td>\n",
       "    </tr>\n",
       "    <tr>\n",
       "      <th>16</th>\n",
       "      <td>36.730937</td>\n",
       "      <td>191.212807</td>\n",
       "    </tr>\n",
       "    <tr>\n",
       "      <th>17</th>\n",
       "      <td>20.043065</td>\n",
       "      <td>190.146827</td>\n",
       "    </tr>\n",
       "    <tr>\n",
       "      <th>18</th>\n",
       "      <td>11.761794</td>\n",
       "      <td>174.400761</td>\n",
       "    </tr>\n",
       "    <tr>\n",
       "      <th>19</th>\n",
       "      <td>110.396994</td>\n",
       "      <td>794.501584</td>\n",
       "    </tr>\n",
       "    <tr>\n",
       "      <th>20</th>\n",
       "      <td>77.808999</td>\n",
       "      <td>1833.782283</td>\n",
       "    </tr>\n",
       "    <tr>\n",
       "      <th>21</th>\n",
       "      <td>83.393544</td>\n",
       "      <td>940.523720</td>\n",
       "    </tr>\n",
       "    <tr>\n",
       "      <th>22</th>\n",
       "      <td>13.525675</td>\n",
       "      <td>238.309948</td>\n",
       "    </tr>\n",
       "    <tr>\n",
       "      <th>23</th>\n",
       "      <td>48.608106</td>\n",
       "      <td>398.770704</td>\n",
       "    </tr>\n",
       "    <tr>\n",
       "      <th>24</th>\n",
       "      <td>137.516259</td>\n",
       "      <td>788.685511</td>\n",
       "    </tr>\n",
       "    <tr>\n",
       "      <th>25</th>\n",
       "      <td>141.490574</td>\n",
       "      <td>812.233207</td>\n",
       "    </tr>\n",
       "    <tr>\n",
       "      <th>26</th>\n",
       "      <td>31.605854</td>\n",
       "      <td>233.552621</td>\n",
       "    </tr>\n",
       "    <tr>\n",
       "      <th>27</th>\n",
       "      <td>53.733419</td>\n",
       "      <td>110.033181</td>\n",
       "    </tr>\n",
       "    <tr>\n",
       "      <th>28</th>\n",
       "      <td>48.830875</td>\n",
       "      <td>188.588534</td>\n",
       "    </tr>\n",
       "    <tr>\n",
       "      <th>29</th>\n",
       "      <td>66.800425</td>\n",
       "      <td>401.340459</td>\n",
       "    </tr>\n",
       "    <tr>\n",
       "      <th>30</th>\n",
       "      <td>87.552780</td>\n",
       "      <td>887.265469</td>\n",
       "    </tr>\n",
       "    <tr>\n",
       "      <th>31</th>\n",
       "      <td>82.349913</td>\n",
       "      <td>143.480804</td>\n",
       "    </tr>\n",
       "    <tr>\n",
       "      <th>32</th>\n",
       "      <td>35.006632</td>\n",
       "      <td>250.206862</td>\n",
       "    </tr>\n",
       "    <tr>\n",
       "      <th>33</th>\n",
       "      <td>79.267578</td>\n",
       "      <td>149.481333</td>\n",
       "    </tr>\n",
       "  </tbody>\n",
       "</table>\n",
       "</div>"
      ],
      "text/plain": [
       "             x            y\n",
       "0    62.675661   517.097007\n",
       "1   166.254106  1071.822371\n",
       "2   122.397254   501.610387\n",
       "3    38.997767   159.227305\n",
       "4    48.466506   159.289701\n",
       "5    75.726504   167.745255\n",
       "6   115.779915   603.760399\n",
       "7    48.359412   151.642354\n",
       "8   220.862737   727.021883\n",
       "9    27.618049    89.704189\n",
       "10  165.343096   959.315389\n",
       "11   75.835345   199.148682\n",
       "12   71.445588   337.008389\n",
       "13   63.461576   588.037462\n",
       "14  243.544835  1265.822842\n",
       "15  227.088481  1568.992907\n",
       "16   36.730937   191.212807\n",
       "17   20.043065   190.146827\n",
       "18   11.761794   174.400761\n",
       "19  110.396994   794.501584\n",
       "20   77.808999  1833.782283\n",
       "21   83.393544   940.523720\n",
       "22   13.525675   238.309948\n",
       "23   48.608106   398.770704\n",
       "24  137.516259   788.685511\n",
       "25  141.490574   812.233207\n",
       "26   31.605854   233.552621\n",
       "27   53.733419   110.033181\n",
       "28   48.830875   188.588534\n",
       "29   66.800425   401.340459\n",
       "30   87.552780   887.265469\n",
       "31   82.349913   143.480804\n",
       "32   35.006632   250.206862\n",
       "33   79.267578   149.481333"
      ]
     },
     "execution_count": 14,
     "metadata": {},
     "output_type": "execute_result"
    }
   ],
   "source": [
    "#EJERCICIO 1\n",
    "# cargar librerias-----------------------------------------------\n",
    "import pandas as pd\n",
    "import numpy as np\n",
    "from pandas.core.common import flatten\n",
    "from plotnine import *\n",
    "from array import *\n",
    "import scipy.stats as stats\n",
    "import math\n",
    "import matplotlib as mpl\n",
    "import matplotlib.pyplot as plt\n",
    "import statsmodels.api as sm\n",
    "from sklearn import linear_model\n",
    "from sklearn.metrics import mean_squared_error, r2_score\n",
    "import statsmodels.formula.api as smf\n",
    "import statsmodels.stats.api as sms\n",
    "\n",
    "# cargar base----------------------------------------------------\n",
    "# x contiene las horas de trabajo realidas. x contiene el retorno económico / ganancias\n",
    "rls_ex1 = pd.read_csv(\"Ejercicios_resueltos_Tema4_rls_ex1.csv\")\n",
    "\n",
    "# ver datos-------------------------------------------------\n",
    "rls_ex1"
   ]
  },
  {
   "cell_type": "code",
   "execution_count": 15,
   "id": "589962ad-0b89-4a21-a01d-2a99d4c95ec7",
   "metadata": {},
   "outputs": [
    {
     "data": {
      "text/html": [
       "<div>\n",
       "<style scoped>\n",
       "    .dataframe tbody tr th:only-of-type {\n",
       "        vertical-align: middle;\n",
       "    }\n",
       "\n",
       "    .dataframe tbody tr th {\n",
       "        vertical-align: top;\n",
       "    }\n",
       "\n",
       "    .dataframe thead th {\n",
       "        text-align: right;\n",
       "    }\n",
       "</style>\n",
       "<table border=\"1\" class=\"dataframe\">\n",
       "  <thead>\n",
       "    <tr style=\"text-align: right;\">\n",
       "      <th></th>\n",
       "      <th>x</th>\n",
       "      <th>y</th>\n",
       "    </tr>\n",
       "  </thead>\n",
       "  <tbody>\n",
       "    <tr>\n",
       "      <th>count</th>\n",
       "      <td>34.000000</td>\n",
       "      <td>34.000000</td>\n",
       "    </tr>\n",
       "    <tr>\n",
       "      <th>mean</th>\n",
       "      <td>86.478831</td>\n",
       "      <td>523.345975</td>\n",
       "    </tr>\n",
       "    <tr>\n",
       "      <th>std</th>\n",
       "      <td>60.683849</td>\n",
       "      <td>443.033484</td>\n",
       "    </tr>\n",
       "    <tr>\n",
       "      <th>min</th>\n",
       "      <td>11.761794</td>\n",
       "      <td>89.704189</td>\n",
       "    </tr>\n",
       "    <tr>\n",
       "      <th>25%</th>\n",
       "      <td>48.386186</td>\n",
       "      <td>177.947704</td>\n",
       "    </tr>\n",
       "    <tr>\n",
       "      <th>50%</th>\n",
       "      <td>73.586046</td>\n",
       "      <td>367.889547</td>\n",
       "    </tr>\n",
       "    <tr>\n",
       "      <th>75%</th>\n",
       "      <td>114.434185</td>\n",
       "      <td>793.047566</td>\n",
       "    </tr>\n",
       "    <tr>\n",
       "      <th>max</th>\n",
       "      <td>243.544835</td>\n",
       "      <td>1833.782283</td>\n",
       "    </tr>\n",
       "  </tbody>\n",
       "</table>\n",
       "</div>"
      ],
      "text/plain": [
       "                x            y\n",
       "count   34.000000    34.000000\n",
       "mean    86.478831   523.345975\n",
       "std     60.683849   443.033484\n",
       "min     11.761794    89.704189\n",
       "25%     48.386186   177.947704\n",
       "50%     73.586046   367.889547\n",
       "75%    114.434185   793.047566\n",
       "max    243.544835  1833.782283"
      ]
     },
     "execution_count": 15,
     "metadata": {},
     "output_type": "execute_result"
    }
   ],
   "source": [
    "# describir estadísticos -------------------------------------------------\n",
    "rls_ex1.describe()"
   ]
  },
  {
   "cell_type": "code",
   "execution_count": 17,
   "id": "ab4c6842-9d04-474a-8111-b073bbe418bb",
   "metadata": {},
   "outputs": [
    {
     "name": "stdout",
     "output_type": "stream",
     "text": [
      "<class 'pandas.core.frame.DataFrame'>\n",
      "RangeIndex: 34 entries, 0 to 33\n",
      "Data columns (total 2 columns):\n",
      " #   Column  Non-Null Count  Dtype  \n",
      "---  ------  --------------  -----  \n",
      " 0   x       34 non-null     float64\n",
      " 1   y       34 non-null     float64\n",
      "dtypes: float64(2)\n",
      "memory usage: 676.0 bytes\n"
     ]
    }
   ],
   "source": [
    "# información de tipos de variables\n",
    "rls_ex1.info()"
   ]
  },
  {
   "cell_type": "code",
   "execution_count": 18,
   "id": "5209ca98-b6e7-4b5a-a23b-1cc045daab9a",
   "metadata": {},
   "outputs": [
    {
     "data": {
      "text/html": [
       "<div>\n",
       "<style scoped>\n",
       "    .dataframe tbody tr th:only-of-type {\n",
       "        vertical-align: middle;\n",
       "    }\n",
       "\n",
       "    .dataframe tbody tr th {\n",
       "        vertical-align: top;\n",
       "    }\n",
       "\n",
       "    .dataframe thead th {\n",
       "        text-align: right;\n",
       "    }\n",
       "</style>\n",
       "<table border=\"1\" class=\"dataframe\">\n",
       "  <thead>\n",
       "    <tr style=\"text-align: right;\">\n",
       "      <th></th>\n",
       "      <th>x</th>\n",
       "      <th>y</th>\n",
       "    </tr>\n",
       "  </thead>\n",
       "  <tbody>\n",
       "    <tr>\n",
       "      <th>0</th>\n",
       "      <td>62.675661</td>\n",
       "      <td>517.097007</td>\n",
       "    </tr>\n",
       "    <tr>\n",
       "      <th>1</th>\n",
       "      <td>166.254106</td>\n",
       "      <td>1071.822371</td>\n",
       "    </tr>\n",
       "    <tr>\n",
       "      <th>2</th>\n",
       "      <td>122.397254</td>\n",
       "      <td>501.610387</td>\n",
       "    </tr>\n",
       "    <tr>\n",
       "      <th>3</th>\n",
       "      <td>38.997767</td>\n",
       "      <td>159.227305</td>\n",
       "    </tr>\n",
       "    <tr>\n",
       "      <th>4</th>\n",
       "      <td>48.466506</td>\n",
       "      <td>159.289701</td>\n",
       "    </tr>\n",
       "  </tbody>\n",
       "</table>\n",
       "</div>"
      ],
      "text/plain": [
       "            x            y\n",
       "0   62.675661   517.097007\n",
       "1  166.254106  1071.822371\n",
       "2  122.397254   501.610387\n",
       "3   38.997767   159.227305\n",
       "4   48.466506   159.289701"
      ]
     },
     "execution_count": 18,
     "metadata": {},
     "output_type": "execute_result"
    }
   ],
   "source": [
    "# describir base (cinco primeros)\n",
    "rls_ex1.head()"
   ]
  },
  {
   "cell_type": "code",
   "execution_count": 20,
   "id": "89eb754e-59db-4b36-8d92-53def1b2edcc",
   "metadata": {},
   "outputs": [
    {
     "data": {
      "text/html": [
       "<div>\n",
       "<style scoped>\n",
       "    .dataframe tbody tr th:only-of-type {\n",
       "        vertical-align: middle;\n",
       "    }\n",
       "\n",
       "    .dataframe tbody tr th {\n",
       "        vertical-align: top;\n",
       "    }\n",
       "\n",
       "    .dataframe thead th {\n",
       "        text-align: right;\n",
       "    }\n",
       "</style>\n",
       "<table border=\"1\" class=\"dataframe\">\n",
       "  <thead>\n",
       "    <tr style=\"text-align: right;\">\n",
       "      <th></th>\n",
       "      <th>x</th>\n",
       "      <th>y</th>\n",
       "    </tr>\n",
       "  </thead>\n",
       "  <tbody>\n",
       "    <tr>\n",
       "      <th>29</th>\n",
       "      <td>66.800425</td>\n",
       "      <td>401.340459</td>\n",
       "    </tr>\n",
       "    <tr>\n",
       "      <th>30</th>\n",
       "      <td>87.552780</td>\n",
       "      <td>887.265469</td>\n",
       "    </tr>\n",
       "    <tr>\n",
       "      <th>31</th>\n",
       "      <td>82.349913</td>\n",
       "      <td>143.480804</td>\n",
       "    </tr>\n",
       "    <tr>\n",
       "      <th>32</th>\n",
       "      <td>35.006632</td>\n",
       "      <td>250.206862</td>\n",
       "    </tr>\n",
       "    <tr>\n",
       "      <th>33</th>\n",
       "      <td>79.267578</td>\n",
       "      <td>149.481333</td>\n",
       "    </tr>\n",
       "  </tbody>\n",
       "</table>\n",
       "</div>"
      ],
      "text/plain": [
       "            x           y\n",
       "29  66.800425  401.340459\n",
       "30  87.552780  887.265469\n",
       "31  82.349913  143.480804\n",
       "32  35.006632  250.206862\n",
       "33  79.267578  149.481333"
      ]
     },
     "execution_count": 20,
     "metadata": {},
     "output_type": "execute_result"
    }
   ],
   "source": [
    "# describir base (cinco últimos)\n",
    "rls_ex1.tail()"
   ]
  },
  {
   "cell_type": "code",
   "execution_count": 21,
   "id": "1e0c8bd3-e414-4a49-bc02-9be7f4dc3b75",
   "metadata": {},
   "outputs": [
    {
     "data": {
      "text/html": [
       "<div>\n",
       "<style scoped>\n",
       "    .dataframe tbody tr th:only-of-type {\n",
       "        vertical-align: middle;\n",
       "    }\n",
       "\n",
       "    .dataframe tbody tr th {\n",
       "        vertical-align: top;\n",
       "    }\n",
       "\n",
       "    .dataframe thead th {\n",
       "        text-align: right;\n",
       "    }\n",
       "</style>\n",
       "<table border=\"1\" class=\"dataframe\">\n",
       "  <thead>\n",
       "    <tr style=\"text-align: right;\">\n",
       "      <th></th>\n",
       "      <th>x</th>\n",
       "      <th>y</th>\n",
       "    </tr>\n",
       "  </thead>\n",
       "  <tbody>\n",
       "    <tr>\n",
       "      <th>0</th>\n",
       "      <td>False</td>\n",
       "      <td>False</td>\n",
       "    </tr>\n",
       "    <tr>\n",
       "      <th>1</th>\n",
       "      <td>False</td>\n",
       "      <td>False</td>\n",
       "    </tr>\n",
       "    <tr>\n",
       "      <th>2</th>\n",
       "      <td>False</td>\n",
       "      <td>False</td>\n",
       "    </tr>\n",
       "    <tr>\n",
       "      <th>3</th>\n",
       "      <td>False</td>\n",
       "      <td>False</td>\n",
       "    </tr>\n",
       "    <tr>\n",
       "      <th>4</th>\n",
       "      <td>False</td>\n",
       "      <td>False</td>\n",
       "    </tr>\n",
       "    <tr>\n",
       "      <th>5</th>\n",
       "      <td>False</td>\n",
       "      <td>False</td>\n",
       "    </tr>\n",
       "    <tr>\n",
       "      <th>6</th>\n",
       "      <td>False</td>\n",
       "      <td>False</td>\n",
       "    </tr>\n",
       "    <tr>\n",
       "      <th>7</th>\n",
       "      <td>False</td>\n",
       "      <td>False</td>\n",
       "    </tr>\n",
       "    <tr>\n",
       "      <th>8</th>\n",
       "      <td>False</td>\n",
       "      <td>False</td>\n",
       "    </tr>\n",
       "    <tr>\n",
       "      <th>9</th>\n",
       "      <td>False</td>\n",
       "      <td>False</td>\n",
       "    </tr>\n",
       "    <tr>\n",
       "      <th>10</th>\n",
       "      <td>False</td>\n",
       "      <td>False</td>\n",
       "    </tr>\n",
       "    <tr>\n",
       "      <th>11</th>\n",
       "      <td>False</td>\n",
       "      <td>False</td>\n",
       "    </tr>\n",
       "    <tr>\n",
       "      <th>12</th>\n",
       "      <td>False</td>\n",
       "      <td>False</td>\n",
       "    </tr>\n",
       "    <tr>\n",
       "      <th>13</th>\n",
       "      <td>False</td>\n",
       "      <td>False</td>\n",
       "    </tr>\n",
       "    <tr>\n",
       "      <th>14</th>\n",
       "      <td>False</td>\n",
       "      <td>False</td>\n",
       "    </tr>\n",
       "    <tr>\n",
       "      <th>15</th>\n",
       "      <td>False</td>\n",
       "      <td>False</td>\n",
       "    </tr>\n",
       "    <tr>\n",
       "      <th>16</th>\n",
       "      <td>False</td>\n",
       "      <td>False</td>\n",
       "    </tr>\n",
       "    <tr>\n",
       "      <th>17</th>\n",
       "      <td>False</td>\n",
       "      <td>False</td>\n",
       "    </tr>\n",
       "    <tr>\n",
       "      <th>18</th>\n",
       "      <td>False</td>\n",
       "      <td>False</td>\n",
       "    </tr>\n",
       "    <tr>\n",
       "      <th>19</th>\n",
       "      <td>False</td>\n",
       "      <td>False</td>\n",
       "    </tr>\n",
       "    <tr>\n",
       "      <th>20</th>\n",
       "      <td>False</td>\n",
       "      <td>False</td>\n",
       "    </tr>\n",
       "    <tr>\n",
       "      <th>21</th>\n",
       "      <td>False</td>\n",
       "      <td>False</td>\n",
       "    </tr>\n",
       "    <tr>\n",
       "      <th>22</th>\n",
       "      <td>False</td>\n",
       "      <td>False</td>\n",
       "    </tr>\n",
       "    <tr>\n",
       "      <th>23</th>\n",
       "      <td>False</td>\n",
       "      <td>False</td>\n",
       "    </tr>\n",
       "    <tr>\n",
       "      <th>24</th>\n",
       "      <td>False</td>\n",
       "      <td>False</td>\n",
       "    </tr>\n",
       "    <tr>\n",
       "      <th>25</th>\n",
       "      <td>False</td>\n",
       "      <td>False</td>\n",
       "    </tr>\n",
       "    <tr>\n",
       "      <th>26</th>\n",
       "      <td>False</td>\n",
       "      <td>False</td>\n",
       "    </tr>\n",
       "    <tr>\n",
       "      <th>27</th>\n",
       "      <td>False</td>\n",
       "      <td>False</td>\n",
       "    </tr>\n",
       "    <tr>\n",
       "      <th>28</th>\n",
       "      <td>False</td>\n",
       "      <td>False</td>\n",
       "    </tr>\n",
       "    <tr>\n",
       "      <th>29</th>\n",
       "      <td>False</td>\n",
       "      <td>False</td>\n",
       "    </tr>\n",
       "    <tr>\n",
       "      <th>30</th>\n",
       "      <td>False</td>\n",
       "      <td>False</td>\n",
       "    </tr>\n",
       "    <tr>\n",
       "      <th>31</th>\n",
       "      <td>False</td>\n",
       "      <td>False</td>\n",
       "    </tr>\n",
       "    <tr>\n",
       "      <th>32</th>\n",
       "      <td>False</td>\n",
       "      <td>False</td>\n",
       "    </tr>\n",
       "    <tr>\n",
       "      <th>33</th>\n",
       "      <td>False</td>\n",
       "      <td>False</td>\n",
       "    </tr>\n",
       "  </tbody>\n",
       "</table>\n",
       "</div>"
      ],
      "text/plain": [
       "        x      y\n",
       "0   False  False\n",
       "1   False  False\n",
       "2   False  False\n",
       "3   False  False\n",
       "4   False  False\n",
       "5   False  False\n",
       "6   False  False\n",
       "7   False  False\n",
       "8   False  False\n",
       "9   False  False\n",
       "10  False  False\n",
       "11  False  False\n",
       "12  False  False\n",
       "13  False  False\n",
       "14  False  False\n",
       "15  False  False\n",
       "16  False  False\n",
       "17  False  False\n",
       "18  False  False\n",
       "19  False  False\n",
       "20  False  False\n",
       "21  False  False\n",
       "22  False  False\n",
       "23  False  False\n",
       "24  False  False\n",
       "25  False  False\n",
       "26  False  False\n",
       "27  False  False\n",
       "28  False  False\n",
       "29  False  False\n",
       "30  False  False\n",
       "31  False  False\n",
       "32  False  False\n",
       "33  False  False"
      ]
     },
     "execution_count": 21,
     "metadata": {},
     "output_type": "execute_result"
    }
   ],
   "source": [
    "# nulos\n",
    "rls_ex1.isnull()"
   ]
  },
  {
   "cell_type": "code",
   "execution_count": 22,
   "id": "535b63ab-ef36-4058-8617-d62094cb8ad0",
   "metadata": {},
   "outputs": [
    {
     "data": {
      "text/plain": [
       "x    0\n",
       "y    0\n",
       "dtype: int64"
      ]
     },
     "execution_count": 22,
     "metadata": {},
     "output_type": "execute_result"
    }
   ],
   "source": [
    "# nulos sumados\n",
    "rls_ex1.isnull().sum()"
   ]
  },
  {
   "cell_type": "code",
   "execution_count": 23,
   "id": "90e1627c-2a62-41bd-9e30-5884c848f81c",
   "metadata": {},
   "outputs": [
    {
     "data": {
      "image/png": "[encoded data removed]",
      "text/plain": [
       "<Figure size 500x500 with 1 Axes>"
      ]
     },
     "metadata": {},
     "output_type": "display_data"
    }
   ],
   "source": [
    "# pintar x e y---------------------------------------------------\n",
    "fig = plt.figure(figsize=(5,5))\n",
    "plt.scatter(rls_ex1.x, rls_ex1.y)\n",
    "# definir ejes---------------------------------------------------\n",
    "plt.xlabel(\"trabajo (horas)\")\n",
    "plt.ylabel(\"ganancias (euros)\")\n",
    "# mostrar grafico------------------------------------------------\n",
    "plt.show()"
   ]
  },
  {
   "cell_type": "code",
   "execution_count": 24,
   "id": "64443b42-853f-45f9-9610-560876db753a",
   "metadata": {},
   "outputs": [
    {
     "data": {
      "text/html": [
       "<style>#sk-container-id-1 {color: black;background-color: white;}#sk-container-id-1 pre{padding: 0;}#sk-container-id-1 div.sk-toggleable {background-color: white;}#sk-container-id-1 label.sk-toggleable__label {cursor: pointer;display: block;width: 100%;margin-bottom: 0;padding: 0.3em;box-sizing: border-box;text-align: center;}#sk-container-id-1 label.sk-toggleable__label-arrow:before {content: \"▸\";float: left;margin-right: 0.25em;color: #696969;}#sk-container-id-1 label.sk-toggleable__label-arrow:hover:before {color: black;}#sk-container-id-1 div.sk-estimator:hover label.sk-toggleable__label-arrow:before {color: black;}#sk-container-id-1 div.sk-toggleable__content {max-height: 0;max-width: 0;overflow: hidden;text-align: left;background-color: #f0f8ff;}#sk-container-id-1 div.sk-toggleable__content pre {margin: 0.2em;color: black;border-radius: 0.25em;background-color: #f0f8ff;}#sk-container-id-1 input.sk-toggleable__control:checked~div.sk-toggleable__content {max-height: 200px;max-width: 100%;overflow: auto;}#sk-container-id-1 input.sk-toggleable__control:checked~label.sk-toggleable__label-arrow:before {content: \"▾\";}#sk-container-id-1 div.sk-estimator input.sk-toggleable__control:checked~label.sk-toggleable__label {background-color: #d4ebff;}#sk-container-id-1 div.sk-label input.sk-toggleable__control:checked~label.sk-toggleable__label {background-color: #d4ebff;}#sk-container-id-1 input.sk-hidden--visually {border: 0;clip: rect(1px 1px 1px 1px);clip: rect(1px, 1px, 1px, 1px);height: 1px;margin: -1px;overflow: hidden;padding: 0;position: absolute;width: 1px;}#sk-container-id-1 div.sk-estimator {font-family: monospace;background-color: #f0f8ff;border: 1px dotted black;border-radius: 0.25em;box-sizing: border-box;margin-bottom: 0.5em;}#sk-container-id-1 div.sk-estimator:hover {background-color: #d4ebff;}#sk-container-id-1 div.sk-parallel-item::after {content: \"\";width: 100%;border-bottom: 1px solid gray;flex-grow: 1;}#sk-container-id-1 div.sk-label:hover label.sk-toggleable__label {background-color: #d4ebff;}#sk-container-id-1 div.sk-serial::before {content: \"\";position: absolute;border-left: 1px solid gray;box-sizing: border-box;top: 0;bottom: 0;left: 50%;z-index: 0;}#sk-container-id-1 div.sk-serial {display: flex;flex-direction: column;align-items: center;background-color: white;padding-right: 0.2em;padding-left: 0.2em;position: relative;}#sk-container-id-1 div.sk-item {position: relative;z-index: 1;}#sk-container-id-1 div.sk-parallel {display: flex;align-items: stretch;justify-content: center;background-color: white;position: relative;}#sk-container-id-1 div.sk-item::before, #sk-container-id-1 div.sk-parallel-item::before {content: \"\";position: absolute;border-left: 1px solid gray;box-sizing: border-box;top: 0;bottom: 0;left: 50%;z-index: -1;}#sk-container-id-1 div.sk-parallel-item {display: flex;flex-direction: column;z-index: 1;position: relative;background-color: white;}#sk-container-id-1 div.sk-parallel-item:first-child::after {align-self: flex-end;width: 50%;}#sk-container-id-1 div.sk-parallel-item:last-child::after {align-self: flex-start;width: 50%;}#sk-container-id-1 div.sk-parallel-item:only-child::after {width: 0;}#sk-container-id-1 div.sk-dashed-wrapped {border: 1px dashed gray;margin: 0 0.4em 0.5em 0.4em;box-sizing: border-box;padding-bottom: 0.4em;background-color: white;}#sk-container-id-1 div.sk-label label {font-family: monospace;font-weight: bold;display: inline-block;line-height: 1.2em;}#sk-container-id-1 div.sk-label-container {text-align: center;}#sk-container-id-1 div.sk-container {/* jupyter's `normalize.less` sets `[hidden] { display: none; }` but bootstrap.min.css set `[hidden] { display: none !important; }` so we also need the `!important` here to be able to override the default hidden behavior on the sphinx rendered scikit-learn.org. See: https://github.com/scikit-learn/scikit-learn/issues/21755 */display: inline-block !important;position: relative;}#sk-container-id-1 div.sk-text-repr-fallback {display: none;}</style><div id=\"sk-container-id-1\" class=\"sk-top-container\"><div class=\"sk-text-repr-fallback\"><pre>LinearRegression()</pre><b>In a Jupyter environment, please rerun this cell to show the HTML representation or trust the notebook. <br />On GitHub, the HTML representation is unable to render, please try loading this page with nbviewer.org.</b></div><div class=\"sk-container\" hidden><div class=\"sk-item\"><div class=\"sk-estimator sk-toggleable\"><input class=\"sk-toggleable__control sk-hidden--visually\" id=\"sk-estimator-id-1\" type=\"checkbox\" checked><label for=\"sk-estimator-id-1\" class=\"sk-toggleable__label sk-toggleable__label-arrow\">LinearRegression</label><div class=\"sk-toggleable__content\"><pre>LinearRegression()</pre></div></div></div></div></div>"
      ],
      "text/plain": [
       "LinearRegression()"
      ]
     },
     "execution_count": 24,
     "metadata": {},
     "output_type": "execute_result"
    }
   ],
   "source": [
    "# extraer variables y convertir en np.array----------------------\n",
    "x = rls_ex1[\"x\"].values.reshape(-1,1)\n",
    "# x.shape\n",
    "y = rls_ex1[\"y\"].values.reshape(-1,1)\n",
    "# y.shape\n",
    "# crear el modelo------------------------------------------------\n",
    "lm1 = linear_model.LinearRegression()\n",
    "lm1.fit(x, y)\n",
    "# se pueden obtener los coeficientes-----------------------------"
   ]
  },
  {
   "cell_type": "code",
   "execution_count": 25,
   "id": "e24040fd-7e84-4360-aee5-5a353fe03546",
   "metadata": {},
   "outputs": [
    {
     "name": "stdout",
     "output_type": "stream",
     "text": [
      "Beta1:  [[5.1591244]]\n"
     ]
    }
   ],
   "source": [
    "print(\"Beta1: \", lm1.coef_)\n",
    "# Este es el valor donde corta el eje Y (en X=0)"
   ]
  },
  {
   "cell_type": "code",
   "execution_count": 26,
   "id": "0a07e99c-acf3-4fac-a4ba-9c45e9246861",
   "metadata": {},
   "outputs": [
    {
     "name": "stdout",
     "output_type": "stream",
     "text": [
      "Beta0:  [77.19092689]\n"
     ]
    }
   ],
   "source": [
    "print(\"Beta0: \", lm1.intercept_)"
   ]
  },
  {
   "cell_type": "code",
   "execution_count": 33,
   "id": "f0325d54-3d37-49b0-a8e0-223054c1cb9d",
   "metadata": {},
   "outputs": [
    {
     "name": "stdout",
     "output_type": "stream",
     "text": [
      "Por lo tanto, el modelo de regresión lineal obtenido es:\n",
      "Y =  [77.19092689]  +  [[5.1591244]]  · X\n"
     ]
    }
   ],
   "source": [
    "print(\"Por lo tanto, el modelo de regresión lineal obtenido es:\")\n",
    "print(\"Y = \", lm1.intercept_, \" + \", lm1.coef_, \" · X\")"
   ]
  },
  {
   "cell_type": "code",
   "execution_count": 34,
   "id": "4a331f5a-772e-45cc-a15a-fae4314eae7f",
   "metadata": {},
   "outputs": [
    {
     "data": {
      "image/png": "[encoded data removed]",
      "text/plain": [
       "<Figure size 500x500 with 1 Axes>"
      ]
     },
     "metadata": {},
     "output_type": "display_data"
    }
   ],
   "source": [
    "# obtener valores modelo-----------------------------------------\n",
    "# pintar x e y---------------------------------------------------\n",
    "fig = plt.figure(figsize=(5,5))\n",
    "plt.scatter(rls_ex1.x, rls_ex1.y)\n",
    "# pintar recta de regresion--------------------------------------\n",
    "y_pred = lm1.predict(x)\n",
    "\n",
    "plt.plot(rls_ex1.x, y_pred, color='red', linewidth=3)\n",
    "\n",
    "# definir ejes---------------------------------------------------\n",
    "plt.xlabel(\"trabajo (horas)\")\n",
    "plt.ylabel(\"ganancias (euros)\")\n",
    "# mostrar grafico------------------------------------------------\n",
    "plt.show()"
   ]
  },
  {
   "cell_type": "code",
   "execution_count": 35,
   "id": "ee728af8-984a-493c-b1fe-db4d86a835e9",
   "metadata": {},
   "outputs": [
    {
     "name": "stdout",
     "output_type": "stream",
     "text": [
      "Coeficiente de det. R2: 0.50\n"
     ]
    }
   ],
   "source": [
    "# extraer R2-----------------------------------------------------\n",
    "print(\"Coeficiente de det. R2: %.2f\"\n",
    "% r2_score(y, y_pred))"
   ]
  },
  {
   "cell_type": "code",
   "execution_count": 36,
   "id": "1ed71aec-1313-486d-93ef-399bb37dc830",
   "metadata": {},
   "outputs": [
    {
     "name": "stdout",
     "output_type": "stream",
     "text": [
      "Varianza del modelo, s2: 95372.31\n"
     ]
    }
   ],
   "source": [
    "# calcular sigma2------------------------------------------------\n",
    "print(\"Varianza del modelo, s2: %.2f\"\n",
    "% mean_squared_error(y, y_pred))\n",
    "# estimador de la varianza por MLE"
   ]
  },
  {
   "cell_type": "code",
   "execution_count": 37,
   "id": "af8024b6-3729-4078-bec8-9e853ff73308",
   "metadata": {},
   "outputs": [
    {
     "data": {
      "text/plain": [
       "array([95372.31261032])"
      ]
     },
     "execution_count": 37,
     "metadata": {},
     "output_type": "execute_result"
    }
   ],
   "source": [
    "y_resta = (y - y_pred) ** 2\n",
    "sum(y_resta)/34\n",
    "# estimador de la varianza por OLS"
   ]
  },
  {
   "cell_type": "code",
   "execution_count": 38,
   "id": "b2e2acb6-8657-439b-a2e3-4866e376c596",
   "metadata": {},
   "outputs": [
    {
     "data": {
      "text/plain": [
       "array([101333.08214846])"
      ]
     },
     "execution_count": 38,
     "metadata": {},
     "output_type": "execute_result"
    }
   ],
   "source": [
    "y_resta = (y - y_pred) ** 2\n",
    "sum(y_resta)/32"
   ]
  },
  {
   "cell_type": "code",
   "execution_count": 40,
   "id": "291b3eb2-1724-4949-ac6a-b4abc7660fc5",
   "metadata": {},
   "outputs": [
    {
     "data": {
      "image/png": "[encoded data removed]",
      "text/plain": [
       "<Figure size 500x500 with 1 Axes>"
      ]
     },
     "metadata": {},
     "output_type": "display_data"
    }
   ],
   "source": [
    "# pintar reales vs predichos\n",
    "fig = plt.figure(figsize=(5,5))\n",
    "plt.scatter(y, y_pred)\n",
    "plt.xlabel(\"puntos reales\")\n",
    "plt.ylabel(\"puntos ajuste\")\n",
    "plt.plot([0, max(rls_ex1.y)], [0, max(rls_ex1.y)], color = 'red', linewidth = 3)\n",
    "plt.show()"
   ]
  },
  {
   "cell_type": "code",
   "execution_count": 42,
   "id": "1d4897c5-3d28-4019-a882-651bb09eee7e",
   "metadata": {},
   "outputs": [
    {
     "data": {
      "image/png": "[encoded data removed]",
      "text/plain": [
       "<Figure size 640x480 with 1 Axes>"
      ]
     },
     "metadata": {},
     "output_type": "display_data"
    }
   ],
   "source": [
    "# obtener residuos-----------------------------------------------\n",
    "residuos1 = y - y_pred\n",
    "plt.scatter(x, residuos1)\n",
    "plt.xlabel(\"trabajo (horas)\")\n",
    "plt.ylabel(\"residuos\")\n",
    "plt.plot([0, max(rls_ex1.x)], [0, 0], color = 'red', linewidth = 3)\n",
    "plt.show()"
   ]
  },
  {
   "cell_type": "code",
   "execution_count": 45,
   "id": "5b09557b-170b-4282-b036-f83a537abc44",
   "metadata": {},
   "outputs": [
    {
     "name": "stdout",
     "output_type": "stream",
     "text": [
      "Test Shapiro-Wilk, p.valor: 0.00002\n",
      "Como p-valor < 0.05, se rechaza la hipótesis nula y no se da normalidad en los residuos.\n"
     ]
    }
   ],
   "source": [
    "# se realiza la prueba s-w---------------------------------------\n",
    "sh_result = stats.shapiro(residuos1)\n",
    "# dar formato a la salida----------------------------------------\n",
    "print(\"Test Shapiro-Wilk, p.valor: %5.5f\" %(sh_result.pvalue))\n",
    "print(\"Como p-valor < 0.05, se rechaza la hipótesis nula y no se da normalidad en los residuos.\")"
   ]
  },
  {
   "cell_type": "code",
   "execution_count": 46,
   "id": "6cf0c415-cd77-4fd7-961b-2da414137617",
   "metadata": {},
   "outputs": [
    {
     "name": "stdout",
     "output_type": "stream",
     "text": [
      "El resultado del test Breusch-Pagan es: p.valor = 0.834\n",
      "Como p-valor > 0.05, no se rechaza la hipótesis nula y se da homocedasticidad.\n"
     ]
    }
   ],
   "source": [
    "m1 = sm.OLS(y, sm.add_constant(x)).fit()\n",
    "bp1 = sms.het_breuschpagan(resid = m1.resid, exog_het = m1.model.exog)[1]\n",
    "print(\"El resultado del test Breusch-Pagan es: p.valor = %5.3f\" %(bp1))\n",
    "print(\"Como p-valor > 0.05, no se rechaza la hipótesis nula y se da homocedasticidad.\")"
   ]
  },
  {
   "cell_type": "code",
   "execution_count": null,
   "id": "be0ae880-4767-4a0a-b57c-e704460f8de6",
   "metadata": {},
   "outputs": [],
   "source": []
  }
 ],
 "metadata": {
  "kernelspec": {
   "display_name": "Python [conda env:base] *",
   "language": "python",
   "name": "conda-base-py"
  },
  "language_info": {
   "codemirror_mode": {
    "name": "ipython",
    "version": 3
   },
   "file_extension": ".py",
   "mimetype": "text/x-python",
   "name": "python",
   "nbconvert_exporter": "python",
   "pygments_lexer": "ipython3",
   "version": "3.12.3"
  }
 },
 "nbformat": 4,
 "nbformat_minor": 5
}
