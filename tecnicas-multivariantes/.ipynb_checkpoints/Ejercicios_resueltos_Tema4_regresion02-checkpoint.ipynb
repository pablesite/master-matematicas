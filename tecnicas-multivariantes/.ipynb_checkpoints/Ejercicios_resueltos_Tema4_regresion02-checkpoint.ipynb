{
 "cells": [
  {
   "cell_type": "markdown",
   "id": "050baaf5-2e09-4a2f-9eb4-c323e0f1ce77",
   "metadata": {},
   "source": [
    "<table style=\"width:100%;font-size:13pt\" background=\"images/muimc.jpg\">\n",
    "        <tr>\n",
    "            <td colspan=\"2\" style=\"border: 1px #0098cd solid; text-align:center; background-color:#E6F4F9; color:#0098CD\">\n",
    "                <b>Máster Universitario en Ingeniería Matemática y Computación</b>\n",
    "            </td>\n",
    "    </tr>\n",
    "        <tr style=\"width:100%\">\n",
    "            <td rowspan=\"2\" style=\"border: 1px #0098cd solid; background-color:#E6F4F9; color:#0098CD; width:35%\">\n",
    "                <center>Técnicas Multivariantes y Machine Learning</center>\n",
    "            </td>\n",
    "            <td style=\"border: 1px #0098cd solid; text-align:left; background-color:#E6F4F9; color:#0098CD\">Tema 4: Técnicas de regresión</td>\n",
    "        </tr>\n",
    "        <tr>\n",
    "            <td style=\"border: 1px #0098cd solid; text-align:left; background-color:#E6F4F9; color:#0098CD\">Ejemplo 2\n",
    "            </td>\n",
    "        </tr>        \n",
    "</table>"
   ]
  },
  {
   "cell_type": "code",
   "execution_count": 1,
   "id": "35f5f3c5-df27-47cb-9ebd-a4deec9352c3",
   "metadata": {},
   "outputs": [
    {
     "data": {
      "text/plain": [
       "Text(0, 0.5, 'gramos')"
      ]
     },
     "execution_count": 1,
     "metadata": {},
     "output_type": "execute_result"
    },
    {
     "data": {
      "image/png": "[encoded data removed]",
      "text/plain": [
       "<Figure size 640x480 with 1 Axes>"
      ]
     },
     "metadata": {},
     "output_type": "display_data"
    }
   ],
   "source": [
    "import numpy as np # Librería numérica\n",
    "import matplotlib.pyplot as plt # Para crear gráficos con matplotlib\n",
    "from sklearn.linear_model import LinearRegression # Regresión Lineal con scikit-learn\n",
    "\n",
    "dias   = [1,  2,  3, 4,  5, 6,  7,  8, 9, 10, 11, 12, 13, 14, 15, 16, 17, 18, 19, 20]\n",
    "gramos = [3, 25, 16, 7, 29, 9, 11, 23, 4,  5, 13, 11,  2,  8, 10,  9,  8,  7, 28, 29]\n",
    "\n",
    "xdata = np.asarray(dias)\n",
    "ydata = np.asarray(gramos)\n",
    "\n",
    "plt.plot(xdata, ydata, '.')\n",
    "plt.xlabel(\"días\")\n",
    "plt.ylabel(\"gramos\")"
   ]
  },
  {
   "cell_type": "code",
   "execution_count": 2,
   "id": "2391c662-17df-4a42-a464-1cc79997a5b4",
   "metadata": {},
   "outputs": [
    {
     "name": "stdout",
     "output_type": "stream",
     "text": [
      "Coeficiente = [0.08646617], Intercepto = 11.942105263157895\n"
     ]
    }
   ],
   "source": [
    "# Importamos la clase de Regresión Lineal de scikit-learn\n",
    "from sklearn.linear_model import LinearRegression\n",
    "\n",
    "regresion_lineal = LinearRegression() # creamos una instancia de LinearRegression\n",
    "\n",
    "# instruimos a la regresión lineal que aprenda de los datos (x, y)\n",
    "regresion_lineal.fit(xdata.reshape(-1, 1), ydata) \n",
    "\n",
    "# vemos los parámetros que ha estimado la regresión lineal\n",
    "print('Coeficiente = ' + str(regresion_lineal.coef_) + ', Intercepto = ' + str(regresion_lineal.intercept_))"
   ]
  },
  {
   "cell_type": "code",
   "execution_count": 3,
   "id": "5bba5a2f-8712-4717-a362-549d1287e277",
   "metadata": {},
   "outputs": [
    {
     "name": "stdout",
     "output_type": "stream",
     "text": [
      "y =  11.942105263157895  +  [0.08646617] X\n"
     ]
    }
   ],
   "source": [
    "print(\"y = \", regresion_lineal.intercept_, \" + \", regresion_lineal.coef_, \"X\")"
   ]
  },
  {
   "cell_type": "code",
   "execution_count": 4,
   "id": "bef8a5e7-0bf6-4da1-9577-87bcf9b3379b",
   "metadata": {},
   "outputs": [
    {
     "name": "stdout",
     "output_type": "stream",
     "text": [
      "Número de gramos en el día 5:  [12.37443609]\n"
     ]
    }
   ],
   "source": [
    "# vamos a predicir y = regresion_lineal(5)\n",
    "nuevo_x = np.array([5]) \n",
    "prediccion = regresion_lineal.predict(nuevo_x.reshape(-1,1))\n",
    "print(\"Número de gramos en el día 5: \", prediccion)"
   ]
  },
  {
   "cell_type": "code",
   "execution_count": 5,
   "id": "4e0bfad4-9a68-40d4-a29c-0f4be4b8cab8",
   "metadata": {},
   "outputs": [
    {
     "name": "stdout",
     "output_type": "stream",
     "text": [
      "Número de gramos en el día 15:  [13.23909774]\n"
     ]
    }
   ],
   "source": [
    "# vamos a predicir y = regresion_lineal(15)\n",
    "nuevo2_x = np.array([15]) \n",
    "prediccion2 = regresion_lineal.predict(nuevo2_x.reshape(-1,1))\n",
    "print(\"Número de gramos en el día 15: \", prediccion2)"
   ]
  },
  {
   "cell_type": "code",
   "execution_count": 6,
   "id": "391489b6-ed27-4dcd-9b65-279e0eb5eb8a",
   "metadata": {},
   "outputs": [
    {
     "name": "stdout",
     "output_type": "stream",
     "text": [
      "Error Cuadrático Medio (MSE) = 76.0789097744361\n",
      "Raíz del Error Cuadrático Medio (RMSE) = 8.722322498878157\n"
     ]
    }
   ],
   "source": [
    "# importamos el cálculo del error cuadrático medio (MSE)\n",
    "from sklearn.metrics import mean_squared_error\n",
    "\n",
    "# Predecimos los valores y para los datos usados en el entrenamiento\n",
    "prediccion_entrenamiento = regresion_lineal.predict(xdata.reshape(-1,1))\n",
    "\n",
    "# Calculamos el Error Cuadrático Medio (MSE = Mean Squared Error)\n",
    "mse = mean_squared_error(y_true = ydata, y_pred = prediccion_entrenamiento)\n",
    "\n",
    "# La raíz cuadrada del MSE es el RMSE\n",
    "rmse = np.sqrt(mse)\n",
    "print('Error Cuadrático Medio (MSE) = ' + str(mse))\n",
    "print('Raíz del Error Cuadrático Medio (RMSE) = ' + str(rmse))"
   ]
  },
  {
   "cell_type": "code",
   "execution_count": 7,
   "id": "094a667c-f021-479b-bace-ad84cbd2dbca",
   "metadata": {},
   "outputs": [
    {
     "name": "stdout",
     "output_type": "stream",
     "text": [
      "Coeficiente de Determinación R2 = 0.0032568893984985525\n"
     ]
    }
   ],
   "source": [
    "# calculamos el coeficiente de determinación R2\n",
    "r2 = regresion_lineal.score(xdata.reshape(-1,1), ydata)\n",
    "print('Coeficiente de Determinación R2 = ' + str(r2))"
   ]
  },
  {
   "cell_type": "code",
   "execution_count": 8,
   "id": "e957578b-d848-4ccd-8665-07717e5288a5",
   "metadata": {},
   "outputs": [
    {
     "data": {
      "image/png": "[encoded data removed]",
      "text/plain": [
       "<Figure size 500x500 with 1 Axes>"
      ]
     },
     "metadata": {},
     "output_type": "display_data"
    }
   ],
   "source": [
    "# Obtener valores modelo\n",
    "\n",
    "# Representar x e y\n",
    "fig = plt.figure(figsize=(5,5))\n",
    "plt.scatter(xdata, ydata)\n",
    "\n",
    "x = xdata.reshape(-1,1)\n",
    "\n",
    "# Representar la recta de regresión\n",
    "y_pred = regresion_lineal.predict(x)\n",
    "plt.plot(x, y_pred, color='red', linewidth=3)\n",
    "\n",
    "# Definir ejes\n",
    "plt.xlabel(\"días\")\n",
    "plt.ylabel(\"gramos\")\n",
    "\n",
    "# Mostrar gráfico\n",
    "plt.show()"
   ]
  },
  {
   "cell_type": "code",
   "execution_count": 9,
   "id": "445cc81d-2dba-4d2b-902c-00ca3bd2ab62",
   "metadata": {},
   "outputs": [
    {
     "name": "stdout",
     "output_type": "stream",
     "text": [
      "( 10.5  , 12.85 )\n"
     ]
    }
   ],
   "source": [
    "# la recta debe pasar por el punto:\n",
    "print(\"(\", np.mean(dias), \" ,\", np.mean(gramos), \")\")"
   ]
  },
  {
   "cell_type": "code",
   "execution_count": 10,
   "id": "507d5003-8519-4d3e-a6af-b649e088a709",
   "metadata": {},
   "outputs": [
    {
     "name": "stdout",
     "output_type": "stream",
     "text": [
      "Varianza del modelo, s2: 76.08\n"
     ]
    }
   ],
   "source": [
    "# calcular sigma2\n",
    "print(\"Varianza del modelo, s2: %.2f\"% mean_squared_error(ydata, y_pred))"
   ]
  },
  {
   "cell_type": "code",
   "execution_count": 11,
   "id": "5c093871-36b5-4144-9c96-7ee2bff8960c",
   "metadata": {},
   "outputs": [
    {
     "data": {
      "text/plain": [
       "253.59636591478696"
      ]
     },
     "execution_count": 11,
     "metadata": {},
     "output_type": "execute_result"
    }
   ],
   "source": [
    "# estimador de la varianza por MLE (método de máxima verosimilitud)\n",
    "y_resta = (ydata - y_pred) ** 2\n",
    "sum(y_resta)/6"
   ]
  },
  {
   "cell_type": "code",
   "execution_count": 12,
   "id": "1876608f-ab99-490a-8f26-eeb9e913a257",
   "metadata": {},
   "outputs": [
    {
     "data": {
      "text/plain": [
       "380.39454887218045"
      ]
     },
     "execution_count": 12,
     "metadata": {},
     "output_type": "execute_result"
    }
   ],
   "source": [
    "# estimador de la varianza por OLS (mínimos cuadrados ordinarios)\n",
    "y_resta = (ydata - y_pred) ** 2\n",
    "sum(y_resta)/4 # 6-2"
   ]
  },
  {
   "cell_type": "code",
   "execution_count": 13,
   "id": "75f82379-7bfb-40e8-8613-6d9ef764bd18",
   "metadata": {},
   "outputs": [
    {
     "data": {
      "image/png": "[encoded data removed]",
      "text/plain": [
       "<Figure size 640x480 with 1 Axes>"
      ]
     },
     "metadata": {},
     "output_type": "display_data"
    }
   ],
   "source": [
    "# obtener residuos\n",
    "residuos = ydata - y_pred\n",
    "plt.scatter(x, residuos)\n",
    "plt.xlabel(\"días\")\n",
    "plt.ylabel(\"residuos\")\n",
    "plt.plot([0, max(xdata)], [0, 0], color = 'red', linewidth = 3)\n",
    "plt.show()"
   ]
  },
  {
   "cell_type": "code",
   "execution_count": 14,
   "id": "01e3b492-48d1-4e30-a3d7-4a3657589e92",
   "metadata": {},
   "outputs": [
    {
     "name": "stdout",
     "output_type": "stream",
     "text": [
      "Test Shapiro-Wilk, p.valor: 0.00755\n",
      "Como p.valor < 0.05, se rechaza la hipótesis nula y no se da normalidad en los residuos.\n"
     ]
    }
   ],
   "source": [
    "import scipy.stats as stats\n",
    "\n",
    "# se realiza la prueba S-W\n",
    "sh_result = stats.shapiro(residuos)\n",
    "\n",
    "# dar formato a la salida\n",
    "print(\"Test Shapiro-Wilk, p.valor: %5.5f\" %(sh_result.pvalue))\n",
    "print(\"Como p.valor < 0.05, se rechaza la hipótesis nula y no se da normalidad en los residuos.\")"
   ]
  },
  {
   "cell_type": "code",
   "execution_count": 15,
   "id": "65fc2146-07bd-4dee-a013-695b6e6a362b",
   "metadata": {},
   "outputs": [
    {
     "name": "stdout",
     "output_type": "stream",
     "text": [
      "El resultado del test Breusch-Pagan es: p.valor = 0.780\n",
      "Como p.valor > 0.05, no se rechaza la hipótesis nula y se da homocedasticidad.\n"
     ]
    }
   ],
   "source": [
    "import statsmodels.api as sm\n",
    "import statsmodels.stats.api as sms\n",
    "\n",
    "m1 = sm.OLS(ydata, sm.add_constant(x)).fit()\n",
    "bp1 = sms.het_breuschpagan(resid = m1.resid, exog_het = m1.model.exog)[1]\n",
    "print(\"El resultado del test Breusch-Pagan es: p.valor = %5.3f\"%(bp1))\n",
    "print(\"Como p.valor > 0.05, no se rechaza la hipótesis nula y se da homocedasticidad.\")"
   ]
  },
  {
   "cell_type": "code",
   "execution_count": 16,
   "id": "d488bb81-ffed-4ace-af7d-f5354f2582fe",
   "metadata": {},
   "outputs": [
    {
     "name": "stdout",
     "output_type": "stream",
     "text": [
      "El IC al 0.95 de b1 es: [0.08646617] +/- 0.6988052099496359\n",
      "El intervalo de confianza contiene al 0 para beta_1, luego, la variable no es significativa.\n"
     ]
    }
   ],
   "source": [
    "# calcular ICbeta1\n",
    "\n",
    "# calcular numerador sb1^2\n",
    "s2 = sum(y_resta)/(len(ydata)-2)\n",
    "\n",
    "# calcular denominador sb1^2\n",
    "den = np.var(x) * len(x)\n",
    "\n",
    "# calcular sb1\n",
    "sb1 = (s2/den) ** 0.5\n",
    "amplitud = 1.96 * sb1\n",
    "print(\"El IC al 0.95 de b1 es:\", regresion_lineal.coef_, \"+/-\", amplitud)\n",
    "print(\"El intervalo de confianza contiene al 0 para beta_1, luego, la variable no es significativa.\")"
   ]
  },
  {
   "cell_type": "code",
   "execution_count": 17,
   "id": "a97f5503-a3f7-41a1-8829-278436394c19",
   "metadata": {},
   "outputs": [
    {
     "data": {
      "text/plain": [
       "0.7852713799496359"
      ]
     },
     "execution_count": 17,
     "metadata": {},
     "output_type": "execute_result"
    }
   ],
   "source": [
    "0.08646617 + 0.6988052099496359"
   ]
  },
  {
   "cell_type": "code",
   "execution_count": 18,
   "id": "62321540-9864-402e-95f0-c3cf34bee64d",
   "metadata": {},
   "outputs": [
    {
     "data": {
      "text/plain": [
       "-0.6123390399496359"
      ]
     },
     "execution_count": 18,
     "metadata": {},
     "output_type": "execute_result"
    }
   ],
   "source": [
    "0.08646617 - 0.6988052099496359"
   ]
  },
  {
   "cell_type": "markdown",
   "id": "c7c1bc82-e2f9-4b2b-8f1f-e9491ae83031",
   "metadata": {},
   "source": [
    "Fin"
   ]
  }
 ],
 "metadata": {
  "kernelspec": {
   "display_name": "Python 3 (ipykernel)",
   "language": "python",
   "name": "python3"
  },
  "language_info": {
   "codemirror_mode": {
    "name": "ipython",
    "version": 3
   },
   "file_extension": ".py",
   "mimetype": "text/x-python",
   "name": "python",
   "nbconvert_exporter": "python",
   "pygments_lexer": "ipython3",
   "version": "3.11.7"
  }
 },
 "nbformat": 4,
 "nbformat_minor": 5
}
