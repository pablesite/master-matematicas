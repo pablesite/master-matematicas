{
 "cells": [
  {
   "cell_type": "markdown",
   "id": "e5ed66b8-c778-4a66-87c8-b858af129e58",
   "metadata": {},
   "source": [
    "## Obtención de datos"
   ]
  },
  {
   "cell_type": "code",
   "execution_count": 9,
   "id": "0d8c5316-559b-4c31-87cf-bcc8decd14fe",
   "metadata": {},
   "outputs": [
    {
     "name": "stderr",
     "output_type": "stream",
     "text": [
      "C:\\Users\\PabloRuiz\\AppData\\Local\\Temp\\ipykernel_23868\\3082917764.py:36: DeprecationWarning: Python 3.14 will, by default, filter extracted tar archives and reject files or modify their metadata. Use the filter argument to control this behavior.\n"
     ]
    }
   ],
   "source": [
    "#EJERCICIO 1\n",
    "# cargar librerias-----------------------------------------------\n",
    "import pandas as pd\n",
    "import os\n",
    "import tarfile\n",
    "import urllib.request\n",
    "import numpy as np\n",
    "from pandas.core.common import flatten\n",
    "from plotnine import *\n",
    "from array import *\n",
    "import scipy.stats as stats\n",
    "import math\n",
    "import matplotlib as mpl\n",
    "import matplotlib.pyplot as plt\n",
    "import statsmodels.api as sm\n",
    "from sklearn import linear_model\n",
    "from sklearn.metrics import mean_squared_error, r2_score\n",
    "import statsmodels.formula.api as smf\n",
    "import statsmodels.stats.api as sms\n",
    "\n",
    "# definir las rutas y caminos donde se encuentran los datos------\n",
    "DOWNLOAD_ROOT = \"https://raw.githubusercontent.com/ageron/handson-ml2/master/\"\n",
    "# path que se va a crear en nuestro sistema----------------------\n",
    "HOUSING_PATH = os.path.join(\"datasets\", \"housing\")\n",
    "# lugar de descarga del dataset----------------------------------\n",
    "HOUSING_URL = DOWNLOAD_ROOT + \"datasets/housing/housing.tgz\"\n",
    "\n",
    "# definir una funcion que obtenga los datos y los descargue-----\n",
    "def fetch_housing_data(housing_url=HOUSING_URL, \n",
    "housing_path=HOUSING_PATH):\n",
    "    if not os.path.isdir(housing_path):\n",
    "        os.makedirs(housing_path)\n",
    "    tgz_path = os.path.join(housing_path, \"housing.tgz\")\n",
    "    urllib.request.urlretrieve(housing_url, tgz_path)\n",
    "    housing_tgz = tarfile.open(tgz_path)\n",
    "    housing_tgz.extractall(path=housing_path)\n",
    "    housing_tgz.close()\n",
    "    \n",
    "fetch_housing_data()\n",
    "\n",
    "# definir una funcion que cargue el csv en un dataframe----------\n",
    "def load_housing_data(housing_path=HOUSING_PATH):\n",
    "    csv_path = os.path.join(housing_path, \"housing.csv\")\n",
    "    return pd.read_csv(csv_path)\n",
    "\n",
    "housing = load_housing_data()"
   ]
  },
  {
   "cell_type": "markdown",
   "id": "3c5bef75-d6ae-43d0-809a-22ec139b415b",
   "metadata": {},
   "source": [
    "## Preparación del dataframe"
   ]
  },
  {
   "cell_type": "code",
   "execution_count": 10,
   "id": "505d39e3-dff0-424a-af4d-516f8ec0311e",
   "metadata": {},
   "outputs": [],
   "source": [
    "# separar variable respuesta del dataset-------------------------\n",
    "respuesta = housing[\"median_house_value\"].copy()\n",
    "housing = housing.drop(\"median_house_value\", axis=1)\n",
    "\n",
    "# definir var numerica-------------------------------------------\n",
    "housing_num = housing.drop(\"ocean_proximity\", axis=1)\n",
    "\n",
    "\n",
    "# importar el \"imputador\"----------------------------------------\n",
    "from sklearn.impute import SimpleImputer\n",
    "# importar el \"estandarizador\"-----------------------------------\n",
    "from sklearn.preprocessing import StandardScaler\n",
    "# importar la clase pipeline\"------------------------------------\n",
    "from sklearn.pipeline import Pipeline\n",
    "\n",
    "# definir el pipeline--------------------------------------------\n",
    "num_pipeline = Pipeline([\n",
    "        (\"imputador\", SimpleImputer(strategy=\"median\")),\n",
    "        (\"std_scaler\", StandardScaler()),\n",
    "    ])\n",
    "\n",
    "# aplicar el pipeline--------------------------------------------\n",
    "housing_num_tr = num_pipeline.fit_transform(housing_num)\n",
    "\n",
    "\n",
    "# importar clases------------------------------------------------\n",
    "from sklearn.compose import ColumnTransformer\n",
    "from sklearn.preprocessing import OneHotEncoder\n",
    "\n",
    "# separar dataset en variables numericas y variable categorica---\n",
    "num_attribs = list(housing_num)\n",
    "cat_attribs = [\"ocean_proximity\"]\n",
    "\n",
    "# definir full pipeline------------------------------------------\n",
    "full_pipeline = ColumnTransformer([\n",
    "        (\"num\", num_pipeline, num_attribs),\n",
    "        (\"cat\", OneHotEncoder(drop = \"first\"), cat_attribs),\n",
    "    ])\n",
    "\n",
    "housing_prepared = full_pipeline.fit_transform(housing)"
   ]
  },
  {
   "cell_type": "markdown",
   "id": "9f92fdf3-5d70-403b-b725-954926230126",
   "metadata": {},
   "source": [
    "## Ridge con alpha = 1"
   ]
  },
  {
   "cell_type": "code",
   "execution_count": 11,
   "id": "1475bdf8-18bf-4ded-bb02-e3b2af651257",
   "metadata": {},
   "outputs": [
    {
     "name": "stdout",
     "output_type": "stream",
     "text": [
      "219251.85470476953\n",
      "[-52925.7575442  -53744.69781116  13319.85812079 -10293.66412867\n",
      "  29937.78985234 -44479.43818497  29692.21439608  73624.96037269\n",
      " -39789.8719159  130031.63921427  -3697.62935336   4750.43033774]\n"
     ]
    }
   ],
   "source": [
    "# importar clase-------------------------------------------------\n",
    "from sklearn.linear_model import Ridge\n",
    "\n",
    "# ajustar el modelo----------------------------------------------\n",
    "ridge_reg = Ridge(alpha = 1, solver = \"auto\")\n",
    "ridge_reg.fit(housing_prepared, respuesta)\n",
    "# obtener coeficientes del modelo--------------------------------\n",
    "# intercepto\n",
    "print(ridge_reg.intercept_)\n",
    "# coeficientes de regresion\n",
    "print(ridge_reg.coef_)\n",
    "# importar clase-------------------------------------------------"
   ]
  },
  {
   "cell_type": "markdown",
   "id": "df6f614b-301a-4c10-a951-b07a2fede8ac",
   "metadata": {},
   "source": [
    "## Ridge con alpha = 1e4"
   ]
  },
  {
   "cell_type": "code",
   "execution_count": 16,
   "id": "d8d2111a-ff6e-4904-8fb5-fa07bfca1ae4",
   "metadata": {},
   "outputs": [
    {
     "name": "stdout",
     "output_type": "stream",
     "text": [
      "213248.32449961078\n",
      "[ -9760.89761151 -12228.34267466  11199.36514172   5640.33695302\n",
      "   4851.91951441  -9762.34854409   5734.63871066  50971.33381983\n",
      " -24316.41748776     89.44198348   5253.33235919   5765.58163202]\n"
     ]
    }
   ],
   "source": [
    "# ajustar el modelo----------------------------------------------\n",
    "ridge_reg_b = Ridge(alpha = 1e4, solver = \"auto\")\n",
    "ridge_reg_b.fit(housing_prepared, respuesta)\n",
    "# obtener coeficientes del modelo--------------------------------\n",
    "# intercepto\n",
    "print(ridge_reg_b.intercept_)\n",
    "# coeficientes de regresion\n",
    "print(ridge_reg_b.coef_)"
   ]
  },
  {
   "cell_type": "markdown",
   "id": "a3d9dd8e-c648-4e56-a027-a0c6c0813cec",
   "metadata": {},
   "source": [
    "## Modelo de regresión líneal de mínimos cuadrados"
   ]
  },
  {
   "cell_type": "code",
   "execution_count": 21,
   "id": "eccd727b-a606-4bd3-89b1-00bfdf6cb214",
   "metadata": {},
   "outputs": [
    {
     "name": "stdout",
     "output_type": "stream",
     "text": [
      "219237.0006433122\n",
      "[-52952.95152846 -53767.62485624  13312.88334575 -10320.06092603\n",
      "  29920.76507621 -44490.47744263  29746.22226671  73636.15586366\n",
      " -39766.3987444  156065.71982235  -3697.40166109   4758.75361226]\n"
     ]
    }
   ],
   "source": [
    "# importar clase-------------------------------------------------\n",
    "from sklearn.linear_model import LinearRegression\n",
    "# ajustar el modelo----------------------------------------------\n",
    "lm1 = LinearRegression()\n",
    "lm1.fit(housing_prepared, respuesta)\n",
    "# obtener coeficientes del modelo--------------------------------\n",
    "# intercepto\n",
    "print(lm1.intercept_)\n",
    "\n",
    "# coeficientes de regresion\n",
    "print(lm1.coef_)"
   ]
  },
  {
   "cell_type": "markdown",
   "id": "c5613e18-acf1-47a0-81f5-df0c78386c30",
   "metadata": {},
   "source": [
    "## Representación gráfica"
   ]
  },
  {
   "cell_type": "code",
   "execution_count": 24,
   "id": "95beee87-b8f5-4e6f-a19e-dcc823058b60",
   "metadata": {},
   "outputs": [
    {
     "data": {
      "image/png": "[encoded data removed]",
      "text/plain": [
       "<Figure size 800x800 with 1 Axes>"
      ]
     },
     "metadata": {},
     "output_type": "display_data"
    }
   ],
   "source": [
    "fig = plt.figure(figsize=(8, 8))\n",
    "# ancho de barra-------------------------------------------------\n",
    "barWidth = 0.25\n",
    "# definir posicion barras series---------------------------------\n",
    "r1 = np.arange(len(lm1.coef_))\n",
    "r2 = [x + barWidth for x in r1]\n",
    "r3 = [x + barWidth for x in r2]\n",
    "# pintar las barras----------------------------------------------\n",
    "plt.bar(r1, lm1.coef_, color = \"blue\", \n",
    "width = barWidth, edgecolor = \"white\", label = \"Lineal\");\n",
    "plt.bar(r2, ridge_reg.coef_, color = \"red\", \n",
    "width = barWidth, edgecolor = \"white\", label = \"Ridge a\");\n",
    "plt.bar(r3, ridge_reg_b.coef_, color = \"green\", \n",
    "width = barWidth, edgecolor = \"white\", label = \"Ridge b\");\n",
    "plt.xticks([r + barWidth for r in range(len(lm1.coef_))], \n",
    "['B1', 'B2', 'B3', 'B4', \n",
    " 'B5', 'B6', 'B7', 'B8', \n",
    " 'B9', 'B10', 'B11', 'B12']);\n",
    "plt.legend();\n",
    "plt.xlabel(\"Variable\");\n",
    "plt.ylabel(\"Beta\");\n",
    "plt.show(fig)"
   ]
  },
  {
   "cell_type": "code",
   "execution_count": 26,
   "id": "3290fa19-112e-450a-bec8-b7f49df017ca",
   "metadata": {},
   "outputs": [
    {
     "name": "stdout",
     "output_type": "stream",
     "text": [
      "219239.371611401\n",
      "[-52936.10528879 -53753.78630134  13312.79044653 -10299.69365603\n",
      "  29909.69564186 -44483.79617817  29730.65349082  73630.76579416\n",
      " -39774.84408823 151938.98956871  -3679.84442713   4753.79358651]\n",
      "218717.123954823\n",
      "[    -0.             -0.           5925.06123247      0.\n",
      "      0.             -0.              0.          65973.15122729\n",
      " -37370.99334873      0.              0.              0.        ]\n"
     ]
    },
    {
     "data": {
      "image/png": "[encoded data removed]",
      "text/plain": [
       "<Figure size 800x800 with 1 Axes>"
      ]
     },
     "metadata": {},
     "output_type": "display_data"
    }
   ],
   "source": [
    "# EJERCICIO 2\n",
    "# importar clase-------------------------------------------------\n",
    "from sklearn.linear_model import Lasso\n",
    "\n",
    "# ajustar el modelo----------------------------------------------\n",
    "lasso_reg = Lasso(alpha = 1)\n",
    "lasso_reg.fit(housing_prepared, respuesta)\n",
    "# obtener coeficientes del modelo--------------------------------\n",
    "# intercepto\n",
    "print(lasso_reg.intercept_)\n",
    "# coeficientes de regresion\n",
    "print(lasso_reg.coef_)\n",
    "\n",
    "\n",
    "# ajustar el modelo----------------------------------------------\n",
    "lasso_reg_b = Lasso(alpha = 1e4)\n",
    "lasso_reg_b.fit(housing_prepared, respuesta)\n",
    "# obtener coeficientes del modelo--------------------------------\n",
    "# intercepto\n",
    "print(lasso_reg_b.intercept_)\n",
    "# coeficientes de regresion\n",
    "print(lasso_reg_b.coef_)\n",
    "\n",
    "\n",
    "fig = plt.figure(figsize=(8, 8))\n",
    "# ancho de barra-------------------------------------------------\n",
    "barWidth = 0.25\n",
    "# definir posicion barras series---------------------------------\n",
    "r1 = np.arange(len(lm1.coef_))\n",
    "r2 = [x + barWidth for x in r1]\n",
    "r3 = [x + barWidth for x in r2]\n",
    "# pintar las barras----------------------------------------------\n",
    "plt.bar(r1, lm1.coef_, color = \"blue\", \n",
    "width = barWidth, edgecolor = \"white\", label = \"Lineal\");\n",
    "plt.bar(r2, ridge_reg_b.coef_, color = \"red\", \n",
    "width = barWidth, edgecolor = \"white\", label = \"Ridge b\");\n",
    "plt.bar(r3, lasso_reg_b.coef_, color = \"green\", \n",
    "width = barWidth, edgecolor = \"white\", label = \"Lasso b\");\n",
    "plt.xticks([r + barWidth for r in range(len(lm1.coef_))], \n",
    "['B1', 'B2', 'B3', 'B4', \n",
    " 'B5', 'B6', 'B7', 'B8', \n",
    " 'B9', 'B10', 'B11', 'B12']);\n",
    "plt.legend();\n",
    "plt.xlabel(\"Variable\");\n",
    "plt.ylabel(\"Beta\");\n",
    "plt.show()"
   ]
  },
  {
   "cell_type": "code",
   "execution_count": 34,
   "id": "6918947e-5868-41e2-83bd-2427791094e9",
   "metadata": {},
   "outputs": [
    {
     "name": "stdout",
     "output_type": "stream",
     "text": [
      "206865.4749645959\n",
      "[ -7.3285382  -23.12318484  16.94967114  21.48093501   7.83412633\n",
      "  -3.90892666  10.4757704  110.83304095 -36.29600822   0.\n",
      "   8.01288948   7.55581778]\n",
      "793.9893889648994\n",
      "208267.51670197048\n",
      "[-1469.95946607 -3059.90966939  2747.34800787  2439.66788593\n",
      "   801.03210661 -1171.1003709   1151.60483666 15113.62768328\n",
      " -5336.05497542     0.          1215.79217006  1141.77891116]\n",
      "83.57783041735784\n"
     ]
    },
    {
     "data": {
      "image/png": "[encoded data removed]",
      "text/plain": [
       "<Figure size 800x800 with 1 Axes>"
      ]
     },
     "metadata": {},
     "output_type": "display_data"
    },
    {
     "name": "stdout",
     "output_type": "stream",
     "text": [
      "1.0\n",
      "978.8672293369739\n"
     ]
    }
   ],
   "source": [
    "# EJERCICIO 3\n",
    "# semilla para que los resultados sean los mismos----------------\n",
    "np.random.seed(3)\n",
    "# importar clase-------------------------------------------------\n",
    "from sklearn.linear_model import ElasticNetCV\n",
    "\n",
    "# ajustar el modelo----------------------------------------------\n",
    "e_net = ElasticNetCV(cv = 10, l1_ratio = 0.1)\n",
    "e_net.fit(housing_prepared, respuesta)\n",
    "\n",
    "# obtener coeficientes del modelo--------------------------------\n",
    "# intercepto\n",
    "print(e_net.intercept_)\n",
    "# coeficientes de regresion\n",
    "print(e_net.coef_)\n",
    "print(e_net.alpha_)\n",
    "\n",
    "\n",
    "\n",
    "# ajustar el modelo----------------------------------------------\n",
    "e_net_b = ElasticNetCV(cv = 10, l1_ratio = 0.95)\n",
    "e_net_b.fit(housing_prepared, respuesta)\n",
    "# obtener coeficientes del modelo--------------------------------\n",
    "# intercepto\n",
    "print(e_net_b.intercept_)\n",
    "# coeficientes de regresion\n",
    "print(e_net_b.coef_)\n",
    "print(e_net_b.alpha_)\n",
    "\n",
    "\n",
    "\n",
    "fig = plt.figure(figsize=(8, 8))\n",
    "# ancho de barra-------------------------------------------------\n",
    "barWidth = 0.25\n",
    "# definir posicion barras series---------------------------------\n",
    "r1 = np.arange(len(e_net.coef_))\n",
    "r2 = [x + barWidth for x in r1]\n",
    "r3 = [x + barWidth for x in r2]\n",
    "# pintar las barras----------------------------------------------\n",
    "plt.bar(r2, e_net.coef_, color = \"red\", \n",
    "width = barWidth, edgecolor = \"white\", label = \"Red El. a\");\n",
    "plt.bar(r3, e_net_b.coef_, color = \"green\", \n",
    "width = barWidth, edgecolor = \"white\", label = \"Red El. b\");\n",
    "plt.xticks([r + barWidth for r in range(len(lm1.coef_))], \n",
    "['B1', 'B2', 'B3', 'B4', \n",
    " 'B5', 'B6', 'B7', 'B8', \n",
    " 'B9', 'B10', 'B11', 'B12']);\n",
    "plt.legend();\n",
    "plt.xlabel(\"Variable\");\n",
    "plt.ylabel(\"Beta\");\n",
    "plt.show()\n",
    "\n",
    "\n",
    "# ajustar el modelo----------------------------------------------\n",
    "e_net_c = ElasticNetCV(cv = 10, l1_ratio = [0.1, 0.95])\n",
    "e_net_c.fit(housing_prepared, respuesta)\n",
    "# obtener coeficientes del modelo--------------------------------\n",
    "# intercepto\n",
    "# print(e_net_c.intercept_)\n",
    "# coeficientes de regresion\n",
    "# print(e_net_c.coef_)\n",
    "print(e_net_c.l1_ratio_)\n",
    "print(e_net_c.alpha_)\n",
    "# se puede comprobar que el error de test es mayor con r = 0.1---\n",
    "# error = e_net_c.mse_path_\n",
    "# np.mean(error, axis = 2)"
   ]
  },
  {
   "cell_type": "code",
   "execution_count": null,
   "id": "830ad5db-0a31-4050-a692-90267d2a2a56",
   "metadata": {},
   "outputs": [],
   "source": []
  }
 ],
 "metadata": {
  "kernelspec": {
   "display_name": "Python [conda env:base] *",
   "language": "python",
   "name": "conda-base-py"
  },
  "language_info": {
   "codemirror_mode": {
    "name": "ipython",
    "version": 3
   },
   "file_extension": ".py",
   "mimetype": "text/x-python",
   "name": "python",
   "nbconvert_exporter": "python",
   "pygments_lexer": "ipython3",
   "version": "3.12.7"
  }
 },
 "nbformat": 4,
 "nbformat_minor": 5
}
