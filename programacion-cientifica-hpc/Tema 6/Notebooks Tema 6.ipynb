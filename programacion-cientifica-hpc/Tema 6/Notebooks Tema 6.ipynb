{
 "cells": [
  {
   "cell_type": "markdown",
   "id": "prostate-demonstration",
   "metadata": {},
   "source": [
    "# Ejemplo 1.  Arrays  con NumPy\n",
    "Mª Luisa Díez Platas"
   ]
  },
  {
   "cell_type": "markdown",
   "id": "beneficial-release",
   "metadata": {},
   "source": [
    "Crear un array con  NumPy con valores entre 10 y 40. Mostrar el tipo de datos que almacena,  su dimensión y el tamaño de las dimensiones. Dar la vuelta al array y convertir sus valores al tipo float."
   ]
  },
  {
   "cell_type": "markdown",
   "id": "boxed-outline",
   "metadata": {},
   "source": [
    "Crear el array con el rango indicado"
   ]
  },
  {
   "cell_type": "code",
   "execution_count": 1,
   "id": "analyzed-clone",
   "metadata": {},
   "outputs": [],
   "source": [
    "import numpy  as np"
   ]
  },
  {
   "cell_type": "code",
   "execution_count": 2,
   "id": "falling-royal",
   "metadata": {},
   "outputs": [],
   "source": [
    "array=np.arange(10,40)"
   ]
  },
  {
   "cell_type": "code",
   "execution_count": 3,
   "id": "otherwise-member",
   "metadata": {},
   "outputs": [
    {
     "name": "stdout",
     "output_type": "stream",
     "text": [
      "El array es: \n",
      "[10 11 12 13 14 15 16 17 18 19 20 21 22 23 24 25 26 27 28 29 30 31 32 33\n",
      " 34 35 36 37 38 39]\n"
     ]
    }
   ],
   "source": [
    "print (\"El array es: \")\n",
    "print (array)"
   ]
  },
  {
   "cell_type": "markdown",
   "id": "relative-layer",
   "metadata": {},
   "source": [
    "Mostrar las dimensiones del array"
   ]
  },
  {
   "cell_type": "code",
   "execution_count": 4,
   "id": "universal-variation",
   "metadata": {},
   "outputs": [
    {
     "name": "stdout",
     "output_type": "stream",
     "text": [
      "El  tipo de los elementos es:\n",
      "int64\n"
     ]
    }
   ],
   "source": [
    "print(\"El  tipo de los elementos es:\")\n",
    "print(array.dtype)"
   ]
  },
  {
   "cell_type": "code",
   "execution_count": 5,
   "id": "pharmaceutical-gather",
   "metadata": {},
   "outputs": [
    {
     "name": "stdout",
     "output_type": "stream",
     "text": [
      "El número de  dimensiones del array es:\n",
      "1\n"
     ]
    }
   ],
   "source": [
    "print(\"El número de  dimensiones del array es:\")\n",
    "print(array.ndim)"
   ]
  },
  {
   "cell_type": "code",
   "execution_count": 6,
   "id": "upper-overview",
   "metadata": {},
   "outputs": [
    {
     "name": "stdout",
     "output_type": "stream",
     "text": [
      "El tamaño de las dimensiones:\n",
      "(30,)\n"
     ]
    }
   ],
   "source": [
    "print(\"El tamaño de las dimensiones:\")\n",
    "print(array.shape)"
   ]
  },
  {
   "cell_type": "markdown",
   "id": "broad-tourist",
   "metadata": {},
   "source": [
    "Se realiza la inversión  del array. Se  construye uno nuevo tomado los elementos del array  en orden inverso mediante un operador de rango"
   ]
  },
  {
   "cell_type": "code",
   "execution_count": 7,
   "id": "opposite-rescue",
   "metadata": {},
   "outputs": [],
   "source": [
    "array_inverso=array[::-1]"
   ]
  },
  {
   "cell_type": "code",
   "execution_count": 8,
   "id": "several-translator",
   "metadata": {},
   "outputs": [
    {
     "name": "stdout",
     "output_type": "stream",
     "text": [
      "El array inverso del anterior es:\n",
      "[39 38 37 36 35 34 33 32 31 30 29 28 27 26 25 24 23 22 21 20 19 18 17 16\n",
      " 15 14 13 12 11 10]\n"
     ]
    }
   ],
   "source": [
    "print(\"El array inverso del anterior es:\")\n",
    "print(array_inverso)"
   ]
  },
  {
   "cell_type": "markdown",
   "id": "prescription-object",
   "metadata": {},
   "source": [
    "Se convierten a tipo float los valores del array  inverso"
   ]
  },
  {
   "cell_type": "code",
   "execution_count": 9,
   "id": "convinced-institution",
   "metadata": {},
   "outputs": [],
   "source": [
    "array_inverso=np.asfarray(array_inverso)"
   ]
  },
  {
   "cell_type": "code",
   "execution_count": 10,
   "id": "consistent-staff",
   "metadata": {},
   "outputs": [
    {
     "name": "stdout",
     "output_type": "stream",
     "text": [
      "El array inverso ahora es:\n",
      "[39. 38. 37. 36. 35. 34. 33. 32. 31. 30. 29. 28. 27. 26. 25. 24. 23. 22.\n",
      " 21. 20. 19. 18. 17. 16. 15. 14. 13. 12. 11. 10.]\n"
     ]
    }
   ],
   "source": [
    "print(\"El array inverso ahora es:\")\n",
    "print(array_inverso)"
   ]
  }
 ],
 "metadata": {
  "kernelspec": {
   "display_name": "Python 3",
   "language": "python",
   "name": "python3"
  },
  "language_info": {
   "codemirror_mode": {
    "name": "ipython",
    "version": 3
   },
   "file_extension": ".py",
   "mimetype": "text/x-python",
   "name": "python",
   "nbconvert_exporter": "python",
   "pygments_lexer": "ipython3",
   "version": "3.8.8"
  }
 },
 "nbformat": 4,
 "nbformat_minor": 5
}
