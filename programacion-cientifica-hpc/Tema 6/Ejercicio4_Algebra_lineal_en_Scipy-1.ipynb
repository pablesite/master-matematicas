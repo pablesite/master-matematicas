{
 "cells": [
  {
   "cell_type": "markdown",
   "id": "aging-feature",
   "metadata": {},
   "source": [
    "# Ejercicio 4. Algebra lineal con linalg de Scipy"
   ]
  },
  {
   "cell_type": "raw",
   "id": "domestic-river",
   "metadata": {},
   "source": [
    "En  este ejercicio se verán alguna funciones con matriz de gran aplicabilidad."
   ]
  },
  {
   "cell_type": "markdown",
   "id": "confused-needle",
   "metadata": {},
   "source": [
    "1. Dada una matriz calcular su inversa."
   ]
  },
  {
   "cell_type": "code",
   "execution_count": null,
   "id": "above-accessory",
   "metadata": {},
   "outputs": [],
   "source": [
    "from scipy import linalg\n",
    "import numpy as np\n",
    "#se define una matriz cuadrada\n",
    "A=np.array([[1,2],[2,4]])"
   ]
  },
  {
   "cell_type": "markdown",
   "id": "ancient-breach",
   "metadata": {},
   "source": [
    "Para el cálculo de la inversa de A se utiliza la función inv  de la biblioteca linalg"
   ]
  },
  {
   "cell_type": "code",
   "execution_count": null,
   "id": "hindu-translation",
   "metadata": {},
   "outputs": [],
   "source": [
    "inv_A=linalg.inv(A)\n",
    "print (\"La inversa de A es :\",inv_A)"
   ]
  },
  {
   "cell_type": "markdown",
   "id": "growing-isaac",
   "metadata": {},
   "source": [
    "Se observa  que se ha  producido un error porque la matriz es singular, es decir , tiene determinante 0. Se puede capturar el error."
   ]
  },
  {
   "cell_type": "code",
   "execution_count": null,
   "id": "julian-smile",
   "metadata": {},
   "outputs": [],
   "source": [
    "print(linalg.det(A))"
   ]
  },
  {
   "cell_type": "code",
   "execution_count": null,
   "id": "after-defense",
   "metadata": {},
   "outputs": [],
   "source": [
    "try:\n",
    "    inv_A=linalg.inv(A)\n",
    "except linalg.LinAlgError as e:\n",
    "    print (str(e))\n",
    "    \n",
    "B=np.array([[1,1,2],[0,1,-4],[0,0,-1]])\n",
    "print(linalg.inv(B))\n"
   ]
  },
  {
   "cell_type": "markdown",
   "id": "characteristic-alliance",
   "metadata": {},
   "source": [
    "2. Se define ahora una matriz cuadrada 3x3, y se calcula su determinante\n",
    "Observe el uso del operador ternario condicional de Python"
   ]
  },
  {
   "cell_type": "code",
   "execution_count": null,
   "id": "convenient-college",
   "metadata": {},
   "outputs": [],
   "source": [
    "B=np.array([[1,1,2],[0,1,-4],[0,0,-1]])\n",
    "det_B=linalg.det(B)\n",
    "\n",
    "print(\" El determinante de B es:\")\n",
    "\n",
    "print(det_B)\n",
    "\n",
    "inv_B=linalg.inv(B) if det_B!=0 else []\n",
    "\n",
    "print(\"La inversa  de B es \")\n",
    "print(inv_B)"
   ]
  },
  {
   "cell_type": "markdown",
   "id": "processed-republican",
   "metadata": {},
   "source": [
    "3. Se calculan  los autovalores y autovectores de la matriz"
   ]
  },
  {
   "cell_type": "code",
   "execution_count": null,
   "id": "dental-female",
   "metadata": {},
   "outputs": [],
   "source": [
    "autovalores_B,autovectores_B=linalg.eig(B)\n",
    "print(\"Los autovalores de B son: \")\n",
    "print(autovalores_B)\n",
    "print(\"Los autovectores de B son: \")\n",
    "print(autovalores_B)"
   ]
  },
  {
   "cell_type": "markdown",
   "id": "deluxe-overall",
   "metadata": {},
   "source": [
    "4. Dado un sistema de ecuaciones lineales, resolverlo de dos formas: usando su inversa y usando la función solve() de linalg. El sistema es\n",
    "                    3x+2y+z=1\n",
    "                    5x+3y+4z=2\n",
    "                    x+y-z=1\n",
    "\n",
    "El resultado que se debe obtener es x=-4, y=6 y  z=1\n"
   ]
  },
  {
   "cell_type": "markdown",
   "id": "civil-battery",
   "metadata": {},
   "source": [
    "En este caso se va  a usar otra firma de crear matrices co la función mat de Numpy"
   ]
  },
  {
   "cell_type": "code",
   "execution_count": null,
   "id": "coastal-anthropology",
   "metadata": {},
   "outputs": [],
   "source": [
    "A = np.mat('[3 2 1;5 3 4;1, 1, -1]') \n",
    "print(A)\n",
    "\n",
    "b = np.mat('[1;2;1]]')\n",
    "print(b)\n",
    "# Usando la matriz inversa\n",
    "inv_A=linalg.inv(A)\n",
    "\n",
    "solucion=inv_A * b\n",
    "print(\"La solución con la inversa es:\")\n",
    "print(solucion)\n",
    "\n",
    "# Lo mismo, usando la funcion linalg.solve(A,b)\n",
    "solucion=linalg.solve(A,b)\n",
    "print(\"La solución con solve es:\")\n",
    "print (solucion)"
   ]
  }
 ],
 "metadata": {
  "kernelspec": {
   "display_name": "Python 3",
   "language": "python",
   "name": "python3"
  },
  "language_info": {
   "codemirror_mode": {
    "name": "ipython",
    "version": 3
   },
   "file_extension": ".py",
   "mimetype": "text/x-python",
   "name": "python",
   "nbconvert_exporter": "python",
   "pygments_lexer": "ipython3",
   "version": "3.8.3"
  }
 },
 "nbformat": 4,
 "nbformat_minor": 5
}
