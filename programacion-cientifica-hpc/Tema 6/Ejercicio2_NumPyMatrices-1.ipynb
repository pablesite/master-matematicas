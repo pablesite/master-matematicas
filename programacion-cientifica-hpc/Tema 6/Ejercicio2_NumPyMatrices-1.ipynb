{
 "cells": [
  {
   "cell_type": "markdown",
   "id": "integral-trout",
   "metadata": {},
   "source": [
    "# Ejemplo 2. Multiplicación de matrices y cálculo de determinates"
   ]
  },
  {
   "cell_type": "markdown",
   "id": "revolutionary-aside",
   "metadata": {},
   "source": [
    "Primero se definen las dos matrices que se quieren multiplicar y se muestran"
   ]
  },
  {
   "cell_type": "code",
   "execution_count": 10,
   "id": "missing-berlin",
   "metadata": {},
   "outputs": [
    {
     "name": "stdout",
     "output_type": "stream",
     "text": [
      "Las matrices son:\n",
      "[[1, 3], [2, 1]]\n",
      "[[1, 1], [3, 1]]\n"
     ]
    }
   ],
   "source": [
    "import numpy as np\n",
    "A = [[1, 3], [2, 1]]\n",
    "B = [[1, 1], [3, 1]]\n",
    "print(\"Las matrices son:\")\n",
    "print(A)\n",
    "print(B)"
   ]
  },
  {
   "cell_type": "markdown",
   "id": "loaded-european",
   "metadata": {},
   "source": [
    "Se calcula el producto  y  se  muestra el resultado"
   ]
  },
  {
   "cell_type": "code",
   "execution_count": 11,
   "id": "controlled-canal",
   "metadata": {},
   "outputs": [
    {
     "name": "stdout",
     "output_type": "stream",
     "text": [
      "La matriz resultante es :\n",
      "[[10  4]\n",
      " [ 5  3]]\n"
     ]
    }
   ],
   "source": [
    "AxB = np.dot(A, B)\n",
    "print(\"La matriz resultante es :\")\n",
    "print(AxB)\n"
   ]
  },
  {
   "cell_type": "markdown",
   "id": "ecological-congress",
   "metadata": {},
   "source": [
    "Ahora se calculan  los determinantes de cada una"
   ]
  },
  {
   "cell_type": "code",
   "execution_count": 14,
   "id": "amber-restriction",
   "metadata": {},
   "outputs": [
    {
     "name": "stdout",
     "output_type": "stream",
     "text": [
      "El determinante  de A es:\n",
      "-5\n",
      "El determinante  de B es:\n",
      "-2.0000000000000004\n"
     ]
    }
   ],
   "source": [
    "from numpy import linalg as LA\n",
    "\n",
    "print( \"El determinante  de A es:\")\n",
    "detA=int(np.linalg.det(A))\n",
    "print(detA)\n",
    "print( \"El determinante  de B es:\")\n",
    "print(np.linalg.det(B))"
   ]
  }
 ],
 "metadata": {
  "kernelspec": {
   "display_name": "Python 3",
   "language": "python",
   "name": "python3"
  },
  "language_info": {
   "codemirror_mode": {
    "name": "ipython",
    "version": 3
   },
   "file_extension": ".py",
   "mimetype": "text/x-python",
   "name": "python",
   "nbconvert_exporter": "python",
   "pygments_lexer": "ipython3",
   "version": "3.8.3"
  }
 },
 "nbformat": 4,
 "nbformat_minor": 5
}
