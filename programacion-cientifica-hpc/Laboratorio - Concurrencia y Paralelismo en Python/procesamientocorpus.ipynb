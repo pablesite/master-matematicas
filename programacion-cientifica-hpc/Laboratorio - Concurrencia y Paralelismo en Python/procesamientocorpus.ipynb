{
 "cells": [
  {
   "cell_type": "markdown",
   "id": "4f76ee19",
   "metadata": {},
   "source": [
    "## Procesamiento de un corpus, de forma secuencial o paralela"
   ]
  },
  {
   "cell_type": "markdown",
   "id": "fe259ee3",
   "metadata": {},
   "source": [
    "Se van a procesar las frase el  corpus Brown de texto  que  es proporcionado por el módulo nltk.corpus"
   ]
  },
  {
   "cell_type": "markdown",
   "id": "56f1c8c2",
   "metadata": {},
   "source": [
    "<strong>Módulos que se van a importar</strong>"
   ]
  },
  {
   "cell_type": "code",
   "execution_count": null,
   "id": "8d672e0d",
   "metadata": {},
   "outputs": [],
   "source": [
    "import pandas as pd\n",
    "import multiprocessing as mp\n",
    "import numpy as np\n",
    "import time\n",
    "#modulo para usar expresiones regulares\n",
    "import re\n",
    "from multiprocessing import Pool\n",
    "#importación del corpus brown\n",
    "from nltk.corpus import brown\n"
   ]
  },
  {
   "cell_type": "markdown",
   "id": "b8a2701c",
   "metadata": {},
   "source": [
    "<strong>Funciones que se van a definir</strong><br/>\n",
    "Se definen las funciones que se van a utilizar. Obsérvese que se pasa como parámetro la columna text del DataFrame y por tanto, las funciones que se quieren aplicar deben ejecutarse con apply para que se apliquen  a cada fila.<br/>\n",
    "    Observa la funcion reemplazar_comillas e implementa las demás usanddo  las funciones que se indican en el comentario"
   ]
  },
  {
   "cell_type": "code",
   "execution_count": null,
   "id": "42ffe322",
   "metadata": {},
   "outputs": [],
   "source": [
    "#funcion que construye el DataFrame para su procesamiento, on una frase por fila\n",
    "def construye_textos():\n",
    "    return [\" \".join(np.random.permutation(sents)) for sents in brown.sents()]\n",
    "\n",
    "#funcion que reemplaza comillas dobles\n",
    "def reemplazar_comillas(texto):\n",
    "    return texto.apply(lambda text: text.replace(\"``\",'\"'))\n",
    "\n",
    "#funcion que convierte todas las palabras a minúsculas\n",
    "#la función que pasa a minusculas es text.lower()\n",
    "def a_minusculas(texto):\n",
    "    ###INSERTA TU CODIGO###\n",
    "\n",
    "#funcion que cuenta palabras de cada fila del dataframae\n",
    "#separa las palabras en el texto de cada fila con split y devuelve la longitud de la lista de palabras\n",
    "#la función que devuelve la lista de palabras es re.split(r\"(?:\\s+)|(?:,)|(?:\\-)\",text)\n",
    "def contar_palabras(texto):\n",
    "    ###INSERTA TU CODIGO###\n",
    "    \n",
    "\n",
    "\n"
   ]
  },
  {
   "cell_type": "markdown",
   "id": "efb6efdf",
   "metadata": {},
   "source": [
    "<strong>Función que se va a aplicar</strong><br/>\n",
    "Esta función invocará a las definidas y devolverá el dataframe modificado"
   ]
  },
  {
   "cell_type": "code",
   "execution_count": null,
   "id": "2a2ff190",
   "metadata": {},
   "outputs": [],
   "source": [
    "#funcion que se aplica\n",
    "def procesar_df(df):\n",
    "  #se hace copia del dataframe para no modificarlo\n",
    "  ###INSERTA TU CODIGO###\n",
    "  salida_df = \n",
    "\n",
    "  # reemplaza las comillas\n",
    "  salida_df['text']      = reemplazar_comillas(salida_df['text'])\n",
    "\n",
    "  # pasa el texto a minusculas\n",
    "  ###INSERTA TU CODIGO###\n",
    "  salida_df['text']      =\n",
    "\n",
    "\n",
    "  # cuenta el número de palabras y construye columna nueva con nombre num_palabras\n",
    "  ###INSERTA TU CODIGO###\n",
    "     \n",
    "\n",
    "  # elimina los textos demasiado largos\n",
    "  texto_largo_para_eliminar = salida_df[salida_df['num_palabras'] > 50]\n",
    "  salida_df.drop(texto_largo_para_eliminar.index, inplace=True)\n",
    "\n",
    "  # elimina los textos demasiado cortos\n",
    "  texto_corto_para_eliminar = salida_df[salida_df['num_palabras'] < 10]\n",
    "  salida_df.drop(texto_corto_para_eliminar.index, inplace=True)    \n",
    "\n",
    "  #reinicializa los indices\n",
    "  salida_df.reset_index(drop=True, inplace=True)\n",
    "\n",
    "  return salida_df\n",
    "\n"
   ]
  },
  {
   "cell_type": "markdown",
   "id": "7fb6929f",
   "metadata": {},
   "source": [
    "<strong>Programa principal</strong><br/>\n",
    "Se crea el dataframe a partir del corpus y se invoca a la función sobre todo el dataframe según modo secuencial.<br/>\n",
    "En paralelo, se divide en trozos el dataframe para que sea procesado por distintos hilos\n"
   ]
  },
  {
   "cell_type": "code",
   "execution_count": null,
   "id": "415e4d52",
   "metadata": {},
   "outputs": [],
   "source": [
    "if __name__==\"__main__\":\n",
    "    \n",
    "    dataframe_brown = pd.DataFrame({\n",
    "    'text': construye_textos() + construye_textos() + construye_textos() + construye_textos()\n",
    "    })\n",
    "    print(dataframe_brown)\n",
    "    # se  toma tiempo inicial\n",
    "    ###INSERTA TU CODIGO###\n",
    "    ###########################################################################\n",
    "    \n",
    "    \"\"\"ejecución secuencial\"\"\"\n",
    "    #se llama a la funcion procesar_df() con dataframe_brown\n",
    "    ###INSERTA TU CODIGO###\n",
    "    ###########################################################################\n",
    "    \n",
    "    print(df_procesado)\n",
    "    \n",
    "    # se muestra tiempo total\n",
    "    ###INSERTA TU CODIGO###\n",
    "    ###########################################################################\n",
    "    \n",
    "    #muestra fila 0\n",
    "    print(df_procesado.loc()[0])\n",
    "    \n",
    "    #retorna el numero de núcleos en el sistema, te puede servir para decidir el número de procesos\n",
    "    print(mp.cpu_count())\n",
    "    \n",
    "    \"\"\"ejecución paralela\"\"\"\n",
    "    #divide en trozos el dataframe, decide el numero de trozos y haz comparaciones de rendimientos\n",
    "    trozos_df = np.array_split(dataframe_brown,12)\n",
    "    \n",
    "    # se  toma tiempo inicial\n",
    "    ###INSERTA TU CODIGO###\n",
    "    ###########################################################################\n",
    "    \n",
    "    #se crea el pool de procesos, decide cuantos procesos crear\n",
    "    ###INSERTA TU CODIGO###\n",
    "    ###########################################################################\n",
    "    \n",
    "    #se invoca a la función y se concatenan los resultados de cada trozo con pd.concat(resultados del map)\n",
    "    ###INSERTA TU CODIGO###\n",
    "    ###########################################################################\n",
    "    # se muestra tiempo total\n",
    "    ###INSERTA TU CODIGO###\n",
    "    ###########################################################################   \n",
    "    \n",
    "    # se muestra la fila 0\n",
    "    print(df_procesado)\n",
    "    print(df_procesado.loc()[0])"
   ]
  }
 ],
 "metadata": {
  "kernelspec": {
   "display_name": "Python 3",
   "language": "python",
   "name": "python3"
  },
  "language_info": {
   "codemirror_mode": {
    "name": "ipython",
    "version": 3
   },
   "file_extension": ".py",
   "mimetype": "text/x-python",
   "name": "python",
   "nbconvert_exporter": "python",
   "pygments_lexer": "ipython3",
   "version": "3.8.2"
  }
 },
 "nbformat": 4,
 "nbformat_minor": 5
}
