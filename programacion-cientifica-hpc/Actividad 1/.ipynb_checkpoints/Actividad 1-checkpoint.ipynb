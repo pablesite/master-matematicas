{
 "cells": [
  {
   "cell_type": "markdown",
   "id": "eaec0f5a",
   "metadata": {},
   "source": [
    "# Actividad: Recorridos iterativos de un árbol binario\n",
    "## Objetivos:\n",
    "\n",
    "El propósito de esta actividad es explorar las diferentes implementaciones de estructuras de datos abstractas, como los árboles binarios, las colas y las pilas.\n",
    "\n",
    "Además, se plantea la tarea de crear y programar en Python un algoritmo que atraviese un árbol binario utilizando técnicas que mejoren los algoritmos previamente aprendidos. También se requerirá determinar la complejidad temporal de los algoritmos implementados.\n",
    "\n",
    "Por lo tanto, para llevar a cabo esta actividad es necesario haber estudiado previamente el diseño y la implementación de algoritmos, así como los conceptos relacionados con las estructuras de datos abstractas y sus funciones.\n"
   ]
  },
  {
   "cell_type": "code",
   "execution_count": null,
   "id": "6550e987",
   "metadata": {},
   "outputs": [],
   "source": []
  }
 ],
 "metadata": {
  "kernelspec": {
   "display_name": "Python 3 (ipykernel)",
   "language": "python",
   "name": "python3"
  },
  "language_info": {
   "codemirror_mode": {
    "name": "ipython",
    "version": 3
   },
   "file_extension": ".py",
   "mimetype": "text/x-python",
   "name": "python",
   "nbconvert_exporter": "python",
   "pygments_lexer": "ipython3",
   "version": "3.10.9"
  }
 },
 "nbformat": 4,
 "nbformat_minor": 5
}
