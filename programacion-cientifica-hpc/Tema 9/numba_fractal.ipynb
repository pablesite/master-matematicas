{
 "cells": [
  {
   "cell_type": "markdown",
   "metadata": {},
   "source": [
    "## Numba\n",
    "Compilador jit.\n",
    "Compila una función en tiempo de ejecución para producir un código máquina eficiente. \n",
    "* Función compilada de forma explicita\n",
    "* Función decorada\n",
    "\n",
    "Genera código para CPU y GPU.\n",
    "\n",
    "Modo no python, produce un buen rendimiento. \n",
    "* Produce un buen rendimiento.\n",
    "* Elimina la dependencia de la implementación de los núcleos del uso de lenguajes como C o C++.\n",
    "\n",
    "Se requiere instalación **pip install numba**"
   ]
  },
  {
   "cell_type": "code",
   "execution_count": null,
   "metadata": {},
   "outputs": [
    {
     "name": "stdout",
     "output_type": "stream",
     "text": [
      "3.11 s ± 47.2 ms per loop (mean ± std. dev. of 7 runs, 1 loop each)\n"
     ]
    }
   ],
   "source": [
    "import numpy as np\n",
    "import numba\n",
    "np.random.seed(0)\n",
    "data = np.random.randn(2000, 2000)\n",
    "\n",
    "def busca_min(malla):\n",
    "    minimos_columna = []\n",
    "    minimos_fila = []\n",
    "    \"\"\"Recorre las celdas de la malla\"\"\"\n",
    "    for i in range(1, malla.shape[1]-1):\n",
    "        for j in range(1, malla.shape[0]-1):\n",
    "            if (malla[j, i] < malla[j-1, i-1] and\n",
    "                malla[j, i] < malla[j-1, i] and\n",
    "                malla[j, i] < malla[j-1, i+1] and\n",
    "                malla[j, i] < malla[j, i-1] and\n",
    "                malla[j, i] < malla[j, i+1] and\n",
    "                malla[j, i] < malla[j+1, i-1] and\n",
    "                malla[j, i] < malla[j+1, i] and\n",
    "                malla[j, i] < malla[j+1, i+1]):\n",
    "                minimos_columna.append(i)\n",
    "                minimos_fila.append(j)\n",
    "    return np.array(minimos_fila), np.array(minimos_columna)\n",
    "\n",
    "%timeit busca_min(data)"
   ]
  },
  {
   "cell_type": "code",
   "execution_count": null,
   "metadata": {},
   "outputs": [
    {
     "name": "stdout",
     "output_type": "stream",
     "text": [
      "50.3 ms ± 1.89 ms per loop (mean ± std. dev. of 7 runs, 1 loop each)\n"
     ]
    }
   ],
   "source": [
    "busca_min_jit=numba.jit(nopython=True)(busca_min)\n",
    "\n",
    "%timeit busca_min_jit(data)"
   ]
  },
  {
   "cell_type": "markdown",
   "metadata": {},
   "source": [
    "## Metaprogramación. Decorador\n",
    "Escribir programas que escriben o manipulan otros programas\n",
    "\n",
    "* Un  ejemplo habitual de metaprogramación  en Python son  los decoradores que permiten cambiar el comportamiento de una función.<br/>\n",
    "\n",
    "@decorador<br/>\n",
    "def funcion (argumentos):<br/>\n",
    "\t…<br/><br/>\n",
    "equivale a <br/><br/>\n",
    "funcion=decorador(funcion)<br/><br/>\n",
    "**El decorador recibe una función como parámetro.**<br/>\n",
    "\n",
    "*Lo importante es la definición del decorador.*\n"
   ]
  },
  {
   "cell_type": "markdown",
   "metadata": {},
   "source": [
    "## Construir un fractal\n",
    "Un **fractal** es un objeto geométrico en el que se repite el mismo patrón a diferentes escalas y con diferente orientación según la definición dada.<br/><br/>\n",
    "El código que se muestra creará fractales usando el **Conjunto de Mandelbrot** y se extrae de los ejemplos de la documentación oficial de Numba  en los que se consiguen una mejora importante con el uso de Numba.\n",
    "\n"
   ]
  },
  {
   "cell_type": "code",
   "execution_count": null,
   "metadata": {
    "colab": {
     "base_uri": "https://localhost:8080/",
     "height": 304
    },
    "id": "TXC4vlC5Ow00",
    "outputId": "cd9a9a8b-3f73-4f20-b657-9c084fec3de1"
   },
   "outputs": [
    {
     "name": "stdout",
     "output_type": "stream",
     "text": [
      "0.15395903587341309\n",
      "25.7 ms ± 335 µs per loop (mean ± std. dev. of 7 runs, 10 loops each)\n"
     ]
    },
    {
     "data": {
      "text/plain": [
       "<matplotlib.image.AxesImage at 0x7fa341137580>"
      ]
     },
     "execution_count": 11,
     "metadata": {},
     "output_type": "execute_result"
    },
    {
     "data": {
      "image/png": "[encoded data removed]",
      "text/plain": [
       "<Figure size 432x288 with 1 Axes>"
      ]
     },
     "metadata": {
      "needs_background": "light"
     },
     "output_type": "display_data"
    }
   ],
   "source": [
    "from matplotlib.pylab import imshow, ion\n",
    "import numpy as np\n",
    "from time import time\n",
    "from numba import jit\n",
    "\n",
    "@jit\n",
    "def mandel (x,y,max_iters):\n",
    "    i=0\n",
    "    c=complex(x,y)\n",
    "    z=0.0j\n",
    "    \"\"\"Genera un sucesión recursiva de números complejos y devuelve un código de color distinto \n",
    "    si tiene una distancia al origen mayor de 2\"\"\"\n",
    "    for i in range(max_iters):\n",
    "        z=z*z+c\n",
    "        if (z.real*z.real+z.imag*z.imag)>=4:\n",
    "            return 1\n",
    "    return 255\n",
    "    \n",
    "@jit\n",
    "def create_fractal(min_x,max_x,min_y,max_y,image,iters):\n",
    "    \"\"\"ancho y alto para definir la escala\"\"\"\n",
    "    height=image.shape[0]\n",
    "    width=image.shape[1]\n",
    "    \n",
    "    pixel_size_x=(max_x-min_x)/width\n",
    "    pixel_size_y=(max_y-min_y)/height\n",
    "    \n",
    "    \"\"\"Se rellena la matriz de números enteros con los valores obtenidos al innvocar a la función mandel\"\"\"\n",
    "    for x in range(width):\n",
    "        real=min_x+x*pixel_size_x\n",
    "        for  y in range(height):\n",
    "            imag=min_y+y*pixel_size_y\n",
    "            color=mandel(real,imag, iters)\n",
    "            image[y,x]=color\n",
    "            \n",
    "    return image\n",
    "\n",
    "image=np.zeros((500*2,750*2),dtype=np.uint8)\n",
    "inicio=time()\n",
    "img=create_fractal(-2.0,1.0,-1.0,1.0,image,20)\n",
    "print(time()-inicio)\n",
    "%timeit img=create_fractal(-2.0,1.0,-1.0,1.0,image,20)\n",
    "imshow(img)\n"
   ]
  },
  {
   "cell_type": "code",
   "execution_count": null,
   "metadata": {},
   "outputs": [],
   "source": []
  }
 ],
 "metadata": {
  "colab": {
   "name": "numba fractal.ipynb",
   "provenance": []
  },
  "kernelspec": {
   "display_name": "Python 3 (ipykernel)",
   "language": "python",
   "name": "python3"
  },
  "language_info": {
   "codemirror_mode": {
    "name": "ipython",
    "version": 3
   },
   "file_extension": ".py",
   "mimetype": "text/x-python",
   "name": "python",
   "nbconvert_exporter": "python",
   "pygments_lexer": "ipython3",
   "version": "3.11.5"
  }
 },
 "nbformat": 4,
 "nbformat_minor": 1
}
